{
 "cells": [
  {
   "cell_type": "code",
   "execution_count": 23,
   "id": "a3367e10",
   "metadata": {},
   "outputs": [],
   "source": [
    "import os\n",
    "import numpy as np\n",
    "from plyfile import PlyData\n",
    "import matplotlib.pyplot as plt\n",
    "\n",
    "from tqdm import tqdm\n",
    "import gc"
   ]
  },
  {
   "cell_type": "markdown",
   "id": "2c654870",
   "metadata": {},
   "source": [
    "# Analysis"
   ]
  },
  {
   "cell_type": "code",
   "execution_count": 2,
   "id": "82402257",
   "metadata": {},
   "outputs": [],
   "source": [
    "def read_ply_file(file_path):\n",
    "    plydata = PlyData.read(file_path)\n",
    "    data = plydata['vertex'].data\n",
    "    return data"
   ]
  },
  {
   "cell_type": "code",
   "execution_count": 3,
   "id": "17209515",
   "metadata": {},
   "outputs": [],
   "source": [
    "def extract_gaussian_attributes(data):\n",
    "    attributes = {}\n",
    "    attributes['positions'] = np.vstack((data['x'], data['y'], data['z'])).T\n",
    "    attributes['normals'] = np.vstack((data['nx'], data['ny'], data['nz'])).T\n",
    "    attributes['features_dc'] = np.vstack([data[name] for name in data.dtype.names if 'f_dc' in name]).T\n",
    "    attributes['features_rest'] = np.vstack([data[name] for name in data.dtype.names if 'f_rest' in name]).T\n",
    "    attributes['opacity'] = data['opacity']\n",
    "    attributes['scale'] = np.vstack([data[name] for name in data.dtype.names if 'scale' in name]).T\n",
    "    attributes['rotation'] = np.vstack([data[name] for name in data.dtype.names if 'rot' in name]).T\n",
    "    return attributes"
   ]
  },
  {
   "cell_type": "code",
   "execution_count": 5,
   "id": "223188c6",
   "metadata": {},
   "outputs": [],
   "source": [
    "filepath = \"/vol/isy-rl/prj-rgbd2mesh/dtrofimov/4DGaussians/output/home-inter/gaussian_pertimestamp/time_00000.ply\""
   ]
  },
  {
   "cell_type": "code",
   "execution_count": 6,
   "id": "f13ab5d9",
   "metadata": {},
   "outputs": [],
   "source": [
    "gaussian_3dgs = read_ply_file(filepath)\n",
    "attributes = extract_gaussian_attributes(gaussian_3dgs)"
   ]
  },
  {
   "cell_type": "code",
   "execution_count": 7,
   "id": "7acdf4e3",
   "metadata": {},
   "outputs": [],
   "source": [
    "fp2 = \"/vol/isy-rl/prj-rgbd2mesh/dtrofimov/4DGaussians/output/home-inter/gaussian_pertimestamp/time_00001.ply\""
   ]
  },
  {
   "cell_type": "code",
   "execution_count": 8,
   "id": "876aaff0",
   "metadata": {},
   "outputs": [],
   "source": [
    "gaussian_3dgs2 = read_ply_file(fp2)\n",
    "attributes2 = extract_gaussian_attributes(gaussian_3dgs2)"
   ]
  },
  {
   "cell_type": "code",
   "execution_count": 59,
   "id": "19cabf04",
   "metadata": {},
   "outputs": [
    {
     "data": {
      "text/plain": [
       "-2.1953325"
      ]
     },
     "execution_count": 59,
     "metadata": {},
     "output_type": "execute_result"
    }
   ],
   "source": [
    "attributes[\"features_dc\"].min()"
   ]
  },
  {
   "cell_type": "code",
   "execution_count": 55,
   "id": "92ec34a1",
   "metadata": {},
   "outputs": [
    {
     "data": {
      "text/plain": [
       "(198479, 45)"
      ]
     },
     "execution_count": 55,
     "metadata": {},
     "output_type": "execute_result"
    }
   ],
   "source": [
    "attributes[\"features_rest\"].shape"
   ]
  },
  {
   "cell_type": "markdown",
   "id": "1692f946",
   "metadata": {},
   "source": [
    "## Pipeline"
   ]
  },
  {
   "cell_type": "markdown",
   "id": "47a75941",
   "metadata": {},
   "source": [
    "1. Take the first timestamp Gaussians\n",
    "2. Take the needed vertices\n",
    "3. Take all other timestamps, plot values function of mean/overall change w.r.t. positions and colors"
   ]
  },
  {
   "cell_type": "code",
   "execution_count": 15,
   "id": "6d23490f",
   "metadata": {},
   "outputs": [],
   "source": [
    "vertices_file = \"/vol/isy-rl/prj-rgbd2mesh/dtrofimov/4DGaussians/output/home-inter/gaussian_pertimestamp/gaussian_vertices.txt\"\n",
    "\n",
    "with open(vertices_file, \"r\") as f:\n",
    "    vertices = f.readlines()\n",
    "    vertices = list(map(lambda v: int(v.strip()), vertices))"
   ]
  },
  {
   "cell_type": "code",
   "execution_count": 67,
   "id": "fb8951a9",
   "metadata": {},
   "outputs": [],
   "source": [
    "def sh_to_rgb(features_dc):\n",
    "    # Simple approximation: use the first three SH coefficients as RGB\n",
    "    rgb = np.clip(features_dc, 0, 1)  # Ensure values are within RGB range\n",
    "    return (rgb * 255).astype(np.uint8)\n",
    "\n",
    "def mean_normalized_color(attrs, vertices):\n",
    "    rgb_colors = sh_to_rgb(attrs['features_dc'][vertices])\n",
    "    opacity = np.clip(attrs['opacity'][vertices], 0, 1)\n",
    "    rgba_colors = np.hstack((rgb_colors, (opacity[:, np.newaxis] * 255).astype(np.uint8)))\n",
    "    return rgba_colors"
   ]
  },
  {
   "cell_type": "code",
   "execution_count": 88,
   "id": "78f2087f",
   "metadata": {},
   "outputs": [],
   "source": [
    "def compare_gaussians(gaussians_path, vertices):\n",
    "    #Find filepaths\n",
    "    files = list(filter(lambda x: x.endswith(\".ply\"), sorted(os.listdir(gaussians_path))))\n",
    "    filepaths = list(map(lambda x: os.path.join(gaussians_path, x), files))\n",
    "    initial_gaussian_path = filepaths[0]\n",
    "    filepaths = filepaths[1:]\n",
    "    \n",
    "    #Initial Gaussian\n",
    "    initial_attributes = extract_gaussian_attributes(read_ply_file(initial_gaussian_path))\n",
    "    \n",
    "    results = {\n",
    "        \"positions\": [],\n",
    "        \"colors\": []\n",
    "    }\n",
    "    \n",
    "    for fp in tqdm(filepaths):\n",
    "        current_attributes = extract_gaussian_attributes(read_ply_file(fp))\n",
    "        \n",
    "        #Positions\n",
    "        results[\"positions\"].append(\n",
    "            np.linalg.norm(initial_attributes[\"positions\"][vertices] - current_attributes[\"positions\"][vertices],\n",
    "                           axis=1)\n",
    "        )\n",
    "        results[\"colors\"].append(\n",
    "            np.linalg.norm(\n",
    "                mean_normalized_color(initial_attributes, vertices) - \n",
    "                mean_normalized_color(current_attributes, vertices),\n",
    "                axis=1\n",
    "            )\n",
    "        )\n",
    "    \n",
    "    results[\"positions\"] = np.vstack(results[\"positions\"])\n",
    "    results[\"colors\"] = np.vstack(results[\"colors\"])\n",
    "    \n",
    "    return results"
   ]
  },
  {
   "cell_type": "code",
   "execution_count": 81,
   "id": "dcc1e52b",
   "metadata": {},
   "outputs": [],
   "source": [
    "gaussian_paths = \"/vol/isy-rl/prj-rgbd2mesh/dtrofimov/4DGaussians/output/home-inter/gaussian_pertimestamp\""
   ]
  },
  {
   "cell_type": "code",
   "execution_count": 82,
   "id": "b6853f4f",
   "metadata": {},
   "outputs": [
    {
     "name": "stderr",
     "output_type": "stream",
     "text": [
      "100%|██████████████████████████████████████████████████████████████| 317/317 [00:17<00:00, 17.95it/s]\n"
     ]
    }
   ],
   "source": [
    "results = compare_gaussians(gaussian_paths, vertices)"
   ]
  },
  {
   "cell_type": "code",
   "execution_count": 83,
   "id": "246f556e",
   "metadata": {},
   "outputs": [
    {
     "data": {
      "text/plain": [
       "(317,)"
      ]
     },
     "execution_count": 83,
     "metadata": {},
     "output_type": "execute_result"
    }
   ],
   "source": [
    "results[\"colors\"].mean(axis=1).shape"
   ]
  },
  {
   "cell_type": "code",
   "execution_count": 84,
   "id": "48f56c87",
   "metadata": {},
   "outputs": [],
   "source": [
    "def plot_value_function(array, fig=None, ax=None, label=\"positions\", color=\"b\"):\n",
    "    \"\"\"\n",
    "    array: [n x d]\n",
    "    \"\"\"\n",
    "    if fig is None and ax is None:\n",
    "        fig, ax = plt.subplots(figsize=(8, 6))\n",
    "    \n",
    "    mean_changes = array.mean(axis=1)\n",
    "    std_changes = array.std(axis=1)\n",
    "    \n",
    "    frames = range(1, array.shape[0] + 1)\n",
    "    \n",
    "    # Plot mean changes\n",
    "    ax.plot(frames, mean_changes, label=f\"Mean {label} changes over {array.shape[0]} points\", color=color)\n",
    "    \n",
    "    frames_to_look_at = [30, 46, 52, 98, 139, 177]\n",
    "    for frame in frames_to_look_at:\n",
    "        ax.axvline(frame, color=\"r\")\n",
    "    \n",
    "    # Plot std as error bands\n",
    "    ax.fill_between(frames, mean_changes - std_changes, mean_changes + std_changes, color='b', alpha=0.2, label=\"±1 Std Dev\")\n",
    "    \n",
    "    ax.set_xlabel(\"Frame\")\n",
    "    ax.set_ylabel(\"Changes\")\n",
    "    ax.legend()\n",
    "    \n",
    "    return fig, ax"
   ]
  },
  {
   "cell_type": "code",
   "execution_count": 87,
   "id": "9ffa427c",
   "metadata": {},
   "outputs": [
    {
     "data": {
      "text/plain": [
       "(317, 674)"
      ]
     },
     "execution_count": 87,
     "metadata": {},
     "output_type": "execute_result"
    }
   ],
   "source": [
    "results[\"colors\"].shape"
   ]
  },
  {
   "cell_type": "code",
   "execution_count": 85,
   "id": "dab8d79f",
   "metadata": {},
   "outputs": [
    {
     "data": {
      "image/png": "[encoded data removed]",
      "text/plain": [
       "<Figure size 800x600 with 1 Axes>"
      ]
     },
     "metadata": {},
     "output_type": "display_data"
    }
   ],
   "source": [
    "fig, ax = plt.subplots(figsize=(8, 6))\n",
    "\n",
    "#fig, ax = plot_value_function(results[\"positions\"], fig, ax, \"positions\", \"b\")\n",
    "fig, ax = plot_value_function(results[\"colors\"], fig, ax, \"colors\", \"r\")\n",
    "plt.show()"
   ]
  },
  {
   "cell_type": "markdown",
   "id": "f97deade",
   "metadata": {},
   "source": [
    "### Colors"
   ]
  },
  {
   "cell_type": "code",
   "execution_count": 62,
   "id": "a5d04964",
   "metadata": {},
   "outputs": [
    {
     "data": {
      "image/png": "[encoded data removed]",
      "text/plain": [
       "<Figure size 200x200 with 1 Axes>"
      ]
     },
     "metadata": {},
     "output_type": "display_data"
    }
   ],
   "source": [
    "# Load data\n",
    "filepath = '/vol/isy-rl/prj-rgbd2mesh/dtrofimov/4DGaussians/output/home-inter/gaussian_pertimestamp/time_00000.ply'\n",
    "gaussian_3dgs = read_ply_file(filepath)\n",
    "attributes = extract_gaussian_attributes(gaussian_3dgs)\n",
    "\n",
    "# Convert SH to RGB\n",
    "rgb_colors = sh_to_rgb(attributes['features_dc'])\n",
    "\n",
    "# Normalize opacity to the range [0, 1]\n",
    "opacity = np.clip(attributes['opacity'], 0, 1)\n",
    "\n",
    "# Combine RGB and opacity into RGBA\n",
    "rgba_colors = np.hstack((rgb_colors, (opacity[:, np.newaxis] * 255).astype(np.uint8)))\n",
    "\n",
    "# Calculate the mean RGBA color\n",
    "mean_rgba_color = rgba_colors.mean(axis=0).astype(np.uint8)\n",
    "\n",
    "# Plot the mean color\n",
    "mean_color_normalized = mean_rgba_color / 255  # Normalize to [0, 1] for plotting\n",
    "fig, ax = plt.subplots(figsize=(2, 2))\n",
    "ax.set_facecolor(mean_color_normalized)\n",
    "ax.set_xticks([])\n",
    "ax.set_yticks([])\n",
    "plt.show()\n",
    "\n",
    "# Example usage: visualize the first few RGBA colors (for verification)\n",
    "#print(\"RGBA Colors:\", rgba_colors[:10])\n",
    "#print(\"Mean RGBA Color:\", mean_rgba_color)"
   ]
  },
  {
   "cell_type": "code",
   "execution_count": 63,
   "id": "85ef67f6",
   "metadata": {},
   "outputs": [
    {
     "data": {
      "text/plain": [
       "array([0.25490196, 0.24313725, 0.24313725, 0.41568627])"
      ]
     },
     "execution_count": 63,
     "metadata": {},
     "output_type": "execute_result"
    }
   ],
   "source": [
    "mean_color_normalized"
   ]
  },
  {
   "cell_type": "code",
   "execution_count": 66,
   "id": "914ca5a0",
   "metadata": {},
   "outputs": [
    {
     "data": {
      "text/plain": [
       "(198479, 4)"
      ]
     },
     "execution_count": 66,
     "metadata": {},
     "output_type": "execute_result"
    }
   ],
   "source": [
    "rgba_colors.shape"
   ]
  },
  {
   "cell_type": "code",
   "execution_count": 89,
   "id": "92525bc6",
   "metadata": {},
   "outputs": [
    {
     "data": {
      "text/plain": [
       "array([[  0,   0,   0,   0],\n",
       "       [236, 255, 255,   0],\n",
       "       [  9,  39,  68,   0],\n",
       "       ...,\n",
       "       [255, 255, 255, 255],\n",
       "       [  0,   0,   0, 255],\n",
       "       [  0,   0,   0,  20]], dtype=uint8)"
      ]
     },
     "execution_count": 89,
     "metadata": {},
     "output_type": "execute_result"
    }
   ],
   "source": [
    "mean_normalized_color(attributes, vertices)"
   ]
  },
  {
   "cell_type": "code",
   "execution_count": 91,
   "id": "62ca4941",
   "metadata": {},
   "outputs": [],
   "source": [
    "f = \"/vol/isy-rl/prj-rgbd2mesh/dtrofimov/4DGaussians/output/home-inter/gaussian_pertimestamp/time_00150.ply\"\n",
    "attributes_150 = extract_gaussian_attributes(read_ply_file(f))"
   ]
  },
  {
   "cell_type": "code",
   "execution_count": 90,
   "id": "f3c73109",
   "metadata": {},
   "outputs": [
    {
     "data": {
      "text/plain": [
       "array([[  0,   0,   0,   0],\n",
       "       [236, 255, 255,   0],\n",
       "       [  9,  39,  68,   0],\n",
       "       ...,\n",
       "       [255, 255, 255, 255],\n",
       "       [  0,   0,   0, 255],\n",
       "       [  0,   0,   0,  20]], dtype=uint8)"
      ]
     },
     "execution_count": 90,
     "metadata": {},
     "output_type": "execute_result"
    }
   ],
   "source": [
    "mean_normalized_color(attributes2, vertices)"
   ]
  },
  {
   "cell_type": "code",
   "execution_count": 94,
   "id": "93d0ed77",
   "metadata": {},
   "outputs": [
    {
     "data": {
      "text/plain": [
       "0.0"
      ]
     },
     "execution_count": 94,
     "metadata": {},
     "output_type": "execute_result"
    }
   ],
   "source": [
    "(mean_normalized_color(attributes2, vertices) - mean_normalized_color(attributes_150, vertices)).mean()"
   ]
  },
  {
   "cell_type": "code",
   "execution_count": null,
   "id": "75b8008a",
   "metadata": {},
   "outputs": [],
   "source": []
  }
 ],
 "metadata": {
  "kernelspec": {
   "display_name": "Gaussians4D",
   "language": "python",
   "name": "gaussians4d"
  },
  "language_info": {
   "codemirror_mode": {
    "name": "ipython",
    "version": 3
   },
   "file_extension": ".py",
   "mimetype": "text/x-python",
   "name": "python",
   "nbconvert_exporter": "python",
   "pygments_lexer": "ipython3",
   "version": "3.7.12"
  }
 },
 "nbformat": 4,
 "nbformat_minor": 5
}
