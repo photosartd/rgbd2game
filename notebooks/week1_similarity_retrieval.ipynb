{
 "cells": [
  {
   "cell_type": "code",
   "execution_count": 1,
   "id": "e6102ab8-bc19-492a-a1c8-c78ddc771e3c",
   "metadata": {},
   "outputs": [],
   "source": [
    "from collections import OrderedDict\n",
    "import glob\n",
    "import os\n",
    "import numpy as np\n",
    "import pandas as pd\n",
    "\n",
    "import torch\n",
    "import torch.nn as nn\n",
    "from torch.utils.data import DataLoader\n",
    "import open3d as o3d\n",
    "import h5py\n",
    "import matplotlib.pyplot as plt\n",
    "import seaborn as sns\n",
    "from tqdm import tqdm\n",
    "from sklearn.metrics import confusion_matrix\n",
    "\n",
    "from learning3d.models import PointNet, Classifier\n",
    "from learning3d.data_utils import ClassificationData, ModelNet40Data"
   ]
  },
  {
   "cell_type": "markdown",
   "id": "5f85cdfb-34d8-4913-9da3-8f81990cfed2",
   "metadata": {},
   "source": [
    "# PointNet"
   ]
  },
  {
   "cell_type": "code",
   "execution_count": 2,
   "id": "489bf9e4-8773-4930-a7dd-ff828021346f",
   "metadata": {},
   "outputs": [],
   "source": [
    "pn = PointNet(emb_dims=1024, use_bn=True)"
   ]
  },
  {
   "cell_type": "code",
   "execution_count": 3,
   "id": "3d4cf1d5-6b08-4e5a-9361-012d46f29a9e",
   "metadata": {},
   "outputs": [
    {
     "data": {
      "text/plain": [
       "PointNet(\n",
       "  (conv1): Conv1d(3, 64, kernel_size=(1,), stride=(1,))\n",
       "  (conv2): Conv1d(64, 64, kernel_size=(1,), stride=(1,))\n",
       "  (conv3): Conv1d(64, 64, kernel_size=(1,), stride=(1,))\n",
       "  (conv4): Conv1d(64, 128, kernel_size=(1,), stride=(1,))\n",
       "  (conv5): Conv1d(128, 1024, kernel_size=(1,), stride=(1,))\n",
       "  (relu): ReLU()\n",
       "  (bn1): BatchNorm1d(64, eps=1e-05, momentum=0.1, affine=True, track_running_stats=True)\n",
       "  (bn2): BatchNorm1d(64, eps=1e-05, momentum=0.1, affine=True, track_running_stats=True)\n",
       "  (bn3): BatchNorm1d(64, eps=1e-05, momentum=0.1, affine=True, track_running_stats=True)\n",
       "  (bn4): BatchNorm1d(128, eps=1e-05, momentum=0.1, affine=True, track_running_stats=True)\n",
       "  (bn5): BatchNorm1d(1024, eps=1e-05, momentum=0.1, affine=True, track_running_stats=True)\n",
       ")"
      ]
     },
     "execution_count": 3,
     "metadata": {},
     "output_type": "execute_result"
    }
   ],
   "source": [
    "pn"
   ]
  },
  {
   "cell_type": "code",
   "execution_count": 4,
   "id": "f5f0394f-f289-4c7b-aa4c-92d53843f3df",
   "metadata": {},
   "outputs": [],
   "source": [
    "model = Classifier(feature_model=pn)"
   ]
  },
  {
   "cell_type": "code",
   "execution_count": 5,
   "id": "f87ff6f4-6187-4fb1-88dd-5fe03a7fc33b",
   "metadata": {},
   "outputs": [],
   "source": [
    "model_path = \"/Users/photosartd/repositories/learning3d/pretrained/exp_classifier/models/best_model.t7\"\n",
    "root_dir = \"/Users/photosartd/repositories/learning3d/data\""
   ]
  },
  {
   "cell_type": "code",
   "execution_count": 6,
   "id": "679a27db-a855-44b6-8b66-62502ad1b621",
   "metadata": {},
   "outputs": [
    {
     "data": {
      "text/plain": [
       "<All keys matched successfully>"
      ]
     },
     "execution_count": 6,
     "metadata": {},
     "output_type": "execute_result"
    }
   ],
   "source": [
    "model.load_state_dict(torch.load(model_path, map_location=\"cpu\"))"
   ]
  },
  {
   "cell_type": "code",
   "execution_count": 7,
   "id": "5f539157-dc1c-4b63-8cbd-b5708bed9f8e",
   "metadata": {},
   "outputs": [
    {
     "data": {
      "text/plain": [
       "Classifier(\n",
       "  (feature_model): PointNet(\n",
       "    (conv1): Conv1d(3, 64, kernel_size=(1,), stride=(1,))\n",
       "    (conv2): Conv1d(64, 64, kernel_size=(1,), stride=(1,))\n",
       "    (conv3): Conv1d(64, 64, kernel_size=(1,), stride=(1,))\n",
       "    (conv4): Conv1d(64, 128, kernel_size=(1,), stride=(1,))\n",
       "    (conv5): Conv1d(128, 1024, kernel_size=(1,), stride=(1,))\n",
       "    (relu): ReLU()\n",
       "    (bn1): BatchNorm1d(64, eps=1e-05, momentum=0.1, affine=True, track_running_stats=True)\n",
       "    (bn2): BatchNorm1d(64, eps=1e-05, momentum=0.1, affine=True, track_running_stats=True)\n",
       "    (bn3): BatchNorm1d(64, eps=1e-05, momentum=0.1, affine=True, track_running_stats=True)\n",
       "    (bn4): BatchNorm1d(128, eps=1e-05, momentum=0.1, affine=True, track_running_stats=True)\n",
       "    (bn5): BatchNorm1d(1024, eps=1e-05, momentum=0.1, affine=True, track_running_stats=True)\n",
       "  )\n",
       "  (linear1): Linear(in_features=1024, out_features=512, bias=True)\n",
       "  (bn1): BatchNorm1d(512, eps=1e-05, momentum=0.1, affine=True, track_running_stats=True)\n",
       "  (dropout1): Dropout(p=0.7, inplace=False)\n",
       "  (linear2): Linear(in_features=512, out_features=256, bias=True)\n",
       "  (bn2): BatchNorm1d(256, eps=1e-05, momentum=0.1, affine=True, track_running_stats=True)\n",
       "  (dropout2): Dropout(p=0.7, inplace=False)\n",
       "  (linear3): Linear(in_features=256, out_features=40, bias=True)\n",
       "  (pooling): Pooling()\n",
       ")"
      ]
     },
     "execution_count": 7,
     "metadata": {},
     "output_type": "execute_result"
    }
   ],
   "source": [
    "model"
   ]
  },
  {
   "cell_type": "code",
   "execution_count": 8,
   "id": "886a3be2-1df7-4f84-925a-523d0910bfeb",
   "metadata": {},
   "outputs": [],
   "source": [
    "testset = ClassificationData(ModelNet40Data(train=True, num_points=1024, download=True))\n",
    "test_loader = DataLoader(testset, batch_size=32, shuffle=False, drop_last=False)"
   ]
  },
  {
   "cell_type": "code",
   "execution_count": 9,
   "id": "05f9ebe8-861b-4346-9491-41ad4ccd2d69",
   "metadata": {},
   "outputs": [
    {
     "name": "stdout",
     "output_type": "stream",
     "text": [
      "Sequential(\n",
      "  (feature_model): PointNet(\n",
      "    (conv1): Conv1d(3, 64, kernel_size=(1,), stride=(1,))\n",
      "    (conv2): Conv1d(64, 64, kernel_size=(1,), stride=(1,))\n",
      "    (conv3): Conv1d(64, 64, kernel_size=(1,), stride=(1,))\n",
      "    (conv4): Conv1d(64, 128, kernel_size=(1,), stride=(1,))\n",
      "    (conv5): Conv1d(128, 1024, kernel_size=(1,), stride=(1,))\n",
      "    (relu): ReLU()\n",
      "    (bn1): BatchNorm1d(64, eps=1e-05, momentum=0.1, affine=True, track_running_stats=True)\n",
      "    (bn2): BatchNorm1d(64, eps=1e-05, momentum=0.1, affine=True, track_running_stats=True)\n",
      "    (bn3): BatchNorm1d(64, eps=1e-05, momentum=0.1, affine=True, track_running_stats=True)\n",
      "    (bn4): BatchNorm1d(128, eps=1e-05, momentum=0.1, affine=True, track_running_stats=True)\n",
      "    (bn5): BatchNorm1d(1024, eps=1e-05, momentum=0.1, affine=True, track_running_stats=True)\n",
      "  )\n",
      "  (linear1): Linear(in_features=1024, out_features=512, bias=True)\n",
      "  (bn1): BatchNorm1d(512, eps=1e-05, momentum=0.1, affine=True, track_running_stats=True)\n",
      "  (dropout1): Dropout(p=0.7, inplace=False)\n",
      "  (linear2): Linear(in_features=512, out_features=256, bias=True)\n",
      "  (bn2): BatchNorm1d(256, eps=1e-05, momentum=0.1, affine=True, track_running_stats=True)\n",
      "  (dropout2): Dropout(p=0.7, inplace=False)\n",
      ")\n"
     ]
    }
   ],
   "source": [
    "# Assume 'model' is your pre-trained model\n",
    "model_layers = list(model.children())\n",
    "\n",
    "# Number of layers to keep (for example, remove the last 2 layers)\n",
    "num_layers_to_keep = len(model_layers) - 2\n",
    "\n",
    "# Alternatively, if using named layers:\n",
    "new_model = nn.Sequential(OrderedDict(list(model.named_children())[:num_layers_to_keep]))\n",
    "\n",
    "print(new_model)"
   ]
  },
  {
   "cell_type": "code",
   "execution_count": 10,
   "id": "c841671f-d5ba-49f3-84bd-444ecf64e64e",
   "metadata": {},
   "outputs": [],
   "source": [
    "batch = next(iter(test_loader))"
   ]
  },
  {
   "cell_type": "code",
   "execution_count": 11,
   "id": "f6a23d3f",
   "metadata": {},
   "outputs": [
    {
     "data": {
      "text/plain": [
       "torch.Size([32, 1024, 3])"
      ]
     },
     "execution_count": 11,
     "metadata": {},
     "output_type": "execute_result"
    }
   ],
   "source": [
    "batch[0].shape"
   ]
  },
  {
   "cell_type": "code",
   "execution_count": 12,
   "id": "5c95d7bb-c1d1-4356-bf3d-e723110eb48e",
   "metadata": {},
   "outputs": [
    {
     "data": {
      "text/plain": [
       "Sequential(\n",
       "  (feature_model): PointNet(\n",
       "    (conv1): Conv1d(3, 64, kernel_size=(1,), stride=(1,))\n",
       "    (conv2): Conv1d(64, 64, kernel_size=(1,), stride=(1,))\n",
       "    (conv3): Conv1d(64, 64, kernel_size=(1,), stride=(1,))\n",
       "    (conv4): Conv1d(64, 128, kernel_size=(1,), stride=(1,))\n",
       "    (conv5): Conv1d(128, 1024, kernel_size=(1,), stride=(1,))\n",
       "    (relu): ReLU()\n",
       "    (bn1): BatchNorm1d(64, eps=1e-05, momentum=0.1, affine=True, track_running_stats=True)\n",
       "    (bn2): BatchNorm1d(64, eps=1e-05, momentum=0.1, affine=True, track_running_stats=True)\n",
       "    (bn3): BatchNorm1d(64, eps=1e-05, momentum=0.1, affine=True, track_running_stats=True)\n",
       "    (bn4): BatchNorm1d(128, eps=1e-05, momentum=0.1, affine=True, track_running_stats=True)\n",
       "    (bn5): BatchNorm1d(1024, eps=1e-05, momentum=0.1, affine=True, track_running_stats=True)\n",
       "  )\n",
       "  (linear1): Linear(in_features=1024, out_features=512, bias=True)\n",
       "  (bn1): BatchNorm1d(512, eps=1e-05, momentum=0.1, affine=True, track_running_stats=True)\n",
       "  (dropout1): Dropout(p=0.7, inplace=False)\n",
       "  (linear2): Linear(in_features=512, out_features=256, bias=True)\n",
       "  (bn2): BatchNorm1d(256, eps=1e-05, momentum=0.1, affine=True, track_running_stats=True)\n",
       "  (dropout2): Dropout(p=0.7, inplace=False)\n",
       ")"
      ]
     },
     "execution_count": 12,
     "metadata": {},
     "output_type": "execute_result"
    }
   ],
   "source": [
    "new_model.eval()"
   ]
  },
  {
   "cell_type": "code",
   "execution_count": 13,
   "id": "2f78414a-b520-4009-a792-21340ff5679b",
   "metadata": {},
   "outputs": [],
   "source": [
    "r = model(batch[0])"
   ]
  },
  {
   "cell_type": "code",
   "execution_count": 14,
   "id": "21485761-7527-4000-b856-bd7f93fc4c9e",
   "metadata": {},
   "outputs": [
    {
     "data": {
      "text/plain": [
       "torch.Size([32, 40])"
      ]
     },
     "execution_count": 14,
     "metadata": {},
     "output_type": "execute_result"
    }
   ],
   "source": [
    "r.shape"
   ]
  },
  {
   "cell_type": "code",
   "execution_count": 15,
   "id": "bbdab2da-ed61-457b-a9da-5a73ad7cd01b",
   "metadata": {},
   "outputs": [],
   "source": [
    "model.linear3 = nn.Identity()"
   ]
  },
  {
   "cell_type": "code",
   "execution_count": 16,
   "id": "a71b5ccc-8f5d-4d86-9112-07c0ac293968",
   "metadata": {},
   "outputs": [],
   "source": [
    "r = model(batch[0])"
   ]
  },
  {
   "cell_type": "code",
   "execution_count": 17,
   "id": "f413d603-f2eb-4800-9d4b-510c121a9924",
   "metadata": {},
   "outputs": [
    {
     "data": {
      "text/plain": [
       "torch.Size([32, 256])"
      ]
     },
     "execution_count": 17,
     "metadata": {},
     "output_type": "execute_result"
    }
   ],
   "source": [
    "r.shape"
   ]
  },
  {
   "cell_type": "code",
   "execution_count": 18,
   "id": "f73a380f-8591-44ee-95ad-7960229d691e",
   "metadata": {},
   "outputs": [],
   "source": [
    "r_sim = torch.nn.functional.cosine_similarity(\n",
    "    r.unsqueeze(1),\n",
    "    r.unsqueeze(0),\n",
    "    dim=2\n",
    ")"
   ]
  },
  {
   "cell_type": "code",
   "execution_count": 19,
   "id": "f9d5b405",
   "metadata": {},
   "outputs": [
    {
     "data": {
      "text/plain": [
       "torch.Size([32, 32])"
      ]
     },
     "execution_count": 19,
     "metadata": {},
     "output_type": "execute_result"
    }
   ],
   "source": [
    "r_sim.shape"
   ]
  },
  {
   "cell_type": "code",
   "execution_count": 20,
   "id": "a25787d2",
   "metadata": {},
   "outputs": [
    {
     "data": {
      "image/png": "[encoded data removed]",
      "text/plain": [
       "<Figure size 800x600 with 2 Axes>"
      ]
     },
     "metadata": {},
     "output_type": "display_data"
    }
   ],
   "source": [
    "# Plot similarity matrix as heatmap\n",
    "plt.figure(figsize=(8, 6))\n",
    "plt.imshow(r_sim.detach().numpy(), cmap='viridis', interpolation='nearest')\n",
    "plt.colorbar(label='Similarity')\n",
    "plt.title('Similarity Matrix for 32 batch object')\n",
    "plt.xlabel('Samples')\n",
    "plt.ylabel('Samples')\n",
    "plt.show()"
   ]
  },
  {
   "cell_type": "code",
   "execution_count": 21,
   "id": "14c0dee2-f4a3-4ed2-9f46-c5ec0785a645",
   "metadata": {},
   "outputs": [],
   "source": [
    "def display_open3d(template):\n",
    "    \n",
    "    def close_window_callback(vis):\n",
    "        vis.close()  # This will close the visualizer window\n",
    "    \n",
    "    template_ = o3d.geometry.PointCloud()\n",
    "    template_.points = o3d.utility.Vector3dVector(template)\n",
    "    # template_.paint_uniform_color([1, 0, 0])\n",
    "    \n",
    "    # Create a Visualizer instance\n",
    "    vis = vis = o3d.visualization.VisualizerWithKeyCallback()\n",
    "    vis.create_window()\n",
    "\n",
    "    # Add point cloud to the visualizer\n",
    "    vis.add_geometry(template_)\n",
    "\n",
    "    # Register the key callback for the 'Q' key to close the window\n",
    "    vis.register_key_callback(ord('Q'), close_window_callback)\n",
    "\n",
    "    # Run the visualizer\n",
    "    vis.run()\n",
    "\n",
    "    # Destroy the window when done\n",
    "    vis.destroy_window()"
   ]
  },
  {
   "cell_type": "code",
   "execution_count": 25,
   "id": "23fec3e6-161e-451a-89ed-ef933cf82323",
   "metadata": {},
   "outputs": [
    {
     "name": "stdout",
     "output_type": "stream",
     "text": [
      "\u001b[1;33m[Open3D WARNING] GLFW Error: Cocoa: Failed to find service port for display\u001b[0;m\n"
     ]
    }
   ],
   "source": [
    "display_open3d(batch[0][6])"
   ]
  },
  {
   "cell_type": "markdown",
   "id": "c266ff5e",
   "metadata": {},
   "source": [
    "# ParaHome read meshes"
   ]
  },
  {
   "cell_type": "code",
   "execution_count": 22,
   "id": "9270cb33",
   "metadata": {},
   "outputs": [],
   "source": [
    "mesh_path = \"/Users/photosartd/repositories/ParaHome/data/objects_combined/laptop_combined.obj\""
   ]
  },
  {
   "cell_type": "code",
   "execution_count": 23,
   "id": "5bf0b0fb",
   "metadata": {},
   "outputs": [],
   "source": [
    "mesh = o3d.io.read_triangle_mesh(mesh_path)"
   ]
  },
  {
   "cell_type": "code",
   "execution_count": 24,
   "id": "dd91300c",
   "metadata": {},
   "outputs": [
    {
     "data": {
      "text/plain": [
       "TriangleMesh with 53470 points and 114159 triangles."
      ]
     },
     "execution_count": 24,
     "metadata": {},
     "output_type": "execute_result"
    }
   ],
   "source": [
    "mesh.compute_vertex_normals()"
   ]
  },
  {
   "cell_type": "code",
   "execution_count": 25,
   "id": "d20c1116",
   "metadata": {},
   "outputs": [],
   "source": [
    "def display_mesh(mesh):\n",
    "    def close_window_callback(vis):\n",
    "        vis.close()  # This will close the visualizer window\n",
    "    # Create a Visualizer instance\n",
    "    vis = vis = o3d.visualization.VisualizerWithKeyCallback()\n",
    "    vis.create_window()\n",
    "\n",
    "    # Add point cloud to the visualizer\n",
    "    vis.add_geometry(mesh)\n",
    "\n",
    "    # Register the key callback for the 'Q' key to close the window\n",
    "    vis.register_key_callback(ord('Q'), close_window_callback)\n",
    "\n",
    "    # Run the visualizer\n",
    "    vis.run()\n",
    "\n",
    "    # Destroy the window when done\n",
    "    vis.destroy_window()"
   ]
  },
  {
   "cell_type": "code",
   "execution_count": 24,
   "id": "659b8a2d",
   "metadata": {},
   "outputs": [
    {
     "name": "stdout",
     "output_type": "stream",
     "text": [
      "\u001b[1;33m[Open3D WARNING] GLFW Error: Cocoa: Failed to find service port for display\u001b[0;m\n"
     ]
    }
   ],
   "source": [
    "display_mesh(mesh)"
   ]
  },
  {
   "cell_type": "markdown",
   "id": "13541048",
   "metadata": {},
   "source": [
    "# Classes"
   ]
  },
  {
   "cell_type": "code",
   "execution_count": 26,
   "id": "7c643522",
   "metadata": {},
   "outputs": [],
   "source": [
    "parahome_objects = os.listdir(\"/Users/photosartd/repositories/ParaHome/data/objects_combined/\")"
   ]
  },
  {
   "cell_type": "code",
   "execution_count": 27,
   "id": "a3115420",
   "metadata": {},
   "outputs": [
    {
     "data": {
      "text/plain": [
       "['kettle_combined.obj',\n",
       " 'potlid_combined.obj',\n",
       " 'book_combined.obj',\n",
       " 'gasstove_combined.obj',\n",
       " 'microwave_combined.obj',\n",
       " 'pot_combined.obj',\n",
       " 'cuttingboard_combined.obj',\n",
       " 'chair_combined.obj',\n",
       " 'diningtable_combined.obj',\n",
       " 'desk_combined.obj',\n",
       " 'trashbin_combined.obj',\n",
       " 'sink_combined.obj',\n",
       " 'bowl_combined.obj',\n",
       " 'cup_combined.obj',\n",
       " 'bookshelf_combined.obj',\n",
       " 'refrigerator_combined.obj',\n",
       " 'laptop_combined.obj',\n",
       " 'pan_combined.obj',\n",
       " 'knife_combined.obj',\n",
       " 'salt_combined.obj',\n",
       " 'washingmachine_combined.obj',\n",
       " 'drawer_combined.obj']"
      ]
     },
     "execution_count": 27,
     "metadata": {},
     "output_type": "execute_result"
    }
   ],
   "source": [
    "parahome_objects"
   ]
  },
  {
   "cell_type": "code",
   "execution_count": 28,
   "id": "5ac48042",
   "metadata": {},
   "outputs": [],
   "source": [
    "parahome_classes = list(map(lambda x: x.split(\"_\")[0], parahome_objects))"
   ]
  },
  {
   "cell_type": "code",
   "execution_count": 29,
   "id": "b91b322b",
   "metadata": {},
   "outputs": [
    {
     "data": {
      "text/plain": [
       "22"
      ]
     },
     "execution_count": 29,
     "metadata": {},
     "output_type": "execute_result"
    }
   ],
   "source": [
    "len(parahome_classes)"
   ]
  },
  {
   "cell_type": "code",
   "execution_count": 30,
   "id": "4d71dc0d",
   "metadata": {},
   "outputs": [
    {
     "data": {
      "text/plain": [
       "['kettle',\n",
       " 'potlid',\n",
       " 'book',\n",
       " 'gasstove',\n",
       " 'microwave',\n",
       " 'pot',\n",
       " 'cuttingboard',\n",
       " 'chair',\n",
       " 'diningtable',\n",
       " 'desk',\n",
       " 'trashbin',\n",
       " 'sink',\n",
       " 'bowl',\n",
       " 'cup',\n",
       " 'bookshelf',\n",
       " 'refrigerator',\n",
       " 'laptop',\n",
       " 'pan',\n",
       " 'knife',\n",
       " 'salt',\n",
       " 'washingmachine',\n",
       " 'drawer']"
      ]
     },
     "execution_count": 30,
     "metadata": {},
     "output_type": "execute_result"
    }
   ],
   "source": [
    "parahome_classes"
   ]
  },
  {
   "cell_type": "code",
   "execution_count": 31,
   "id": "5905d132",
   "metadata": {},
   "outputs": [],
   "source": [
    "modelnet_labels = [\n",
    "    'airplane', 'bathtub', 'bed', 'bench', 'bookshelf', 'bottle', 'bowl', 'car',\n",
    "    'chair', 'cone', 'cup', 'curtain', 'desk', 'door', 'dresser', 'flower_pot',\n",
    "    'glass_box', 'guitar', 'keyboard', 'lamp', 'laptop', 'mantel', 'monitor',\n",
    "    'night_stand', 'person', 'piano', 'plant', 'radio', 'range_hood', 'sink',\n",
    "    'sofa', 'stairs', 'stool', 'table', 'tent', 'toilet', 'tv_stand', 'vase',\n",
    "    'wardrobe', 'xbox'\n",
    "]"
   ]
  },
  {
   "cell_type": "code",
   "execution_count": 32,
   "id": "bac5d9fe",
   "metadata": {},
   "outputs": [],
   "source": [
    "model_net_idx_to_label = dict(zip(range(0, 40), modelnet_labels))"
   ]
  },
  {
   "cell_type": "code",
   "execution_count": 33,
   "id": "89d088b5",
   "metadata": {},
   "outputs": [],
   "source": [
    "model_net_label_to_idx = {label: idx for idx, label in model_net_idx_to_label.items()}"
   ]
  },
  {
   "cell_type": "code",
   "execution_count": 34,
   "id": "e9f582c1",
   "metadata": {},
   "outputs": [],
   "source": [
    "intersection_set = set(parahome_classes).intersection(set(modelnet_labels))"
   ]
  },
  {
   "cell_type": "code",
   "execution_count": 35,
   "id": "5d953f13",
   "metadata": {},
   "outputs": [
    {
     "data": {
      "text/plain": [
       "{'bookshelf', 'bowl', 'chair', 'cup', 'desk', 'laptop', 'sink'}"
      ]
     },
     "execution_count": 35,
     "metadata": {},
     "output_type": "execute_result"
    }
   ],
   "source": [
    "intersection_set"
   ]
  },
  {
   "cell_type": "markdown",
   "id": "275d5b08",
   "metadata": {},
   "source": [
    "NOTE: only sink and laptop are compound objects"
   ]
  },
  {
   "cell_type": "markdown",
   "id": "11db9b04",
   "metadata": {},
   "source": [
    "# Plan:\n",
    "1. For each object in parahome - create embeddings of PCs\n",
    "2. For each object from dataset that intersects with ParaHome - create embeddings\n",
    "3. For each embedding from p.2 - find closes object from ParaHome\n",
    "4. Create confusion matrix"
   ]
  },
  {
   "cell_type": "markdown",
   "id": "0cafdf04",
   "metadata": {},
   "source": [
    "## ParaHome embeddings"
   ]
  },
  {
   "cell_type": "code",
   "execution_count": 36,
   "id": "a72803d7",
   "metadata": {},
   "outputs": [],
   "source": [
    "def parahome_calculate_embs(path, num_points=1024):\n",
    "    #Find objects paths\n",
    "    parahome_objects = os.listdir(path)\n",
    "    parahome_objects_paths = list(\n",
    "        map(\n",
    "            lambda name: os.path.join(path, name),\n",
    "            parahome_objects\n",
    "        )\n",
    "    )\n",
    "    \n",
    "    #load\n",
    "    point_clouds = []\n",
    "    for mesh_path in parahome_objects_paths:\n",
    "        mesh = o3d.io.read_triangle_mesh(mesh_path)\n",
    "        mesh.compute_vertex_normals()\n",
    "        pcd = mesh.sample_points_uniformly(number_of_points=num_points)\n",
    "        point_clouds.append(torch.from_numpy(np.asarray(pcd.points, dtype=np.float32)))\n",
    "    return torch.stack(point_clouds, dim=0)"
   ]
  },
  {
   "cell_type": "code",
   "execution_count": 37,
   "id": "3f846193",
   "metadata": {},
   "outputs": [],
   "source": [
    "parahome_pcs = parahome_calculate_embs(\"/Users/photosartd/repositories/ParaHome/data/objects_combined/\", 1024)"
   ]
  },
  {
   "cell_type": "code",
   "execution_count": 38,
   "id": "ba4d9753",
   "metadata": {},
   "outputs": [
    {
     "data": {
      "text/plain": [
       "torch.Size([22, 1024, 3])"
      ]
     },
     "execution_count": 38,
     "metadata": {},
     "output_type": "execute_result"
    }
   ],
   "source": [
    "parahome_pcs.shape"
   ]
  },
  {
   "cell_type": "code",
   "execution_count": 39,
   "id": "10e361f9",
   "metadata": {},
   "outputs": [
    {
     "data": {
      "text/plain": [
       "torch.float32"
      ]
     },
     "execution_count": 39,
     "metadata": {},
     "output_type": "execute_result"
    }
   ],
   "source": [
    "batch[0].dtype"
   ]
  },
  {
   "cell_type": "code",
   "execution_count": 40,
   "id": "ed52db72",
   "metadata": {},
   "outputs": [
    {
     "data": {
      "text/plain": [
       "torch.float32"
      ]
     },
     "execution_count": 40,
     "metadata": {},
     "output_type": "execute_result"
    }
   ],
   "source": [
    "parahome_pcs.dtype"
   ]
  },
  {
   "cell_type": "code",
   "execution_count": 41,
   "id": "e246b760",
   "metadata": {},
   "outputs": [],
   "source": [
    "with torch.no_grad():\n",
    "    parahome_embeddings = model(parahome_pcs)"
   ]
  },
  {
   "cell_type": "code",
   "execution_count": 42,
   "id": "8469735e",
   "metadata": {},
   "outputs": [
    {
     "data": {
      "text/plain": [
       "torch.Size([22, 256])"
      ]
     },
     "execution_count": 42,
     "metadata": {},
     "output_type": "execute_result"
    }
   ],
   "source": [
    "parahome_embeddings.shape"
   ]
  },
  {
   "cell_type": "code",
   "execution_count": 43,
   "id": "e774366b",
   "metadata": {},
   "outputs": [],
   "source": [
    "parahome_similarities = torch.nn.functional.cosine_similarity(\n",
    "    parahome_embeddings.unsqueeze(1),\n",
    "    parahome_embeddings.unsqueeze(0),\n",
    "    dim=2\n",
    ")"
   ]
  },
  {
   "cell_type": "code",
   "execution_count": 44,
   "id": "0eb79471",
   "metadata": {},
   "outputs": [
    {
     "data": {
      "image/png": "[encoded data removed]",
      "text/plain": [
       "<Figure size 800x600 with 2 Axes>"
      ]
     },
     "metadata": {},
     "output_type": "display_data"
    }
   ],
   "source": [
    "# Plot similarity matrix as heatmap\n",
    "plt.figure(figsize=(8, 6))\n",
    "plt.imshow(parahome_similarities, cmap='viridis', interpolation='nearest')\n",
    "plt.colorbar(label='Similarity')\n",
    "plt.title('Similarity Matrix for 22 ParaHome object')\n",
    "plt.xlabel('Samples')\n",
    "plt.ylabel('Samples')\n",
    "plt.show()"
   ]
  },
  {
   "cell_type": "markdown",
   "id": "bd38f448",
   "metadata": {},
   "source": [
    "**Q:** does normalization play a role here? No, look at means"
   ]
  },
  {
   "cell_type": "code",
   "execution_count": 45,
   "id": "d7478675",
   "metadata": {},
   "outputs": [
    {
     "data": {
      "text/plain": [
       "tensor([-9.4137e-04,  1.6535e-03,  1.2356e-04, -1.8410e-02, -5.9877e-03,\n",
       "        -8.5404e-03,  1.1906e-04, -3.6445e-03,  1.8432e-03,  4.4842e-03,\n",
       "         9.8489e-06,  6.4746e-03, -1.0430e-03,  1.6662e-03, -4.3419e-03,\n",
       "        -1.2404e-03,  1.1294e-03,  1.5746e-03,  1.2764e-03,  6.4112e-04,\n",
       "         1.4609e-03, -3.1221e-03, -2.7974e-03, -2.5187e-03,  1.8772e-03,\n",
       "         1.6095e-04,  2.4331e-03, -3.6502e-03, -3.1797e-04, -1.6217e-03,\n",
       "        -5.2858e-03, -4.5632e-03])"
      ]
     },
     "execution_count": 45,
     "metadata": {},
     "output_type": "execute_result"
    }
   ],
   "source": [
    "batch[0].mean(dim=[1, 2])"
   ]
  },
  {
   "cell_type": "code",
   "execution_count": 46,
   "id": "944bbf1c",
   "metadata": {},
   "outputs": [
    {
     "data": {
      "text/plain": [
       "tensor([0.2779, 0.4076, 0.2726, 0.2684, 0.3365, 0.3685, 0.3781, 0.3422, 0.3584,\n",
       "        0.3542, 0.3403, 0.3762, 0.3292, 0.3287, 0.3725, 0.2784, 0.3590, 0.3870,\n",
       "        0.3697, 0.3591, 0.2955, 0.3704, 0.3716, 0.4055, 0.3790, 0.2276, 0.2798,\n",
       "        0.3409, 0.2853, 0.3728, 0.2981, 0.4030])"
      ]
     },
     "execution_count": 46,
     "metadata": {},
     "output_type": "execute_result"
    }
   ],
   "source": [
    "batch[0].std(dim=[1, 2])"
   ]
  },
  {
   "cell_type": "code",
   "execution_count": 47,
   "id": "3dd55475",
   "metadata": {},
   "outputs": [
    {
     "data": {
      "text/plain": [
       "tensor([ 0.0013, -0.0010, -0.0021,  0.0496, -0.0190, -0.0011, -0.0019, -0.0076,\n",
       "        -0.0231,  0.0044, -0.0009, -0.0299, -0.0002,  0.0006, -0.0049,  0.0197,\n",
       "         0.0398,  0.0072, -0.0034,  0.0003, -0.0170, -0.0081])"
      ]
     },
     "execution_count": 47,
     "metadata": {},
     "output_type": "execute_result"
    }
   ],
   "source": [
    "parahome_pcs.mean(dim=[1, 2])"
   ]
  },
  {
   "cell_type": "code",
   "execution_count": 48,
   "id": "dcca5f0b",
   "metadata": {},
   "outputs": [
    {
     "data": {
      "text/plain": [
       "tensor([0.0427, 0.0482, 0.0609, 0.2591, 0.1149, 0.0593, 0.0705, 0.1752, 0.2939,\n",
       "        0.2819, 0.0525, 0.2601, 0.0443, 0.0308, 0.3050, 0.2674, 0.1044, 0.0708,\n",
       "        0.0425, 0.0253, 0.2405, 0.1182])"
      ]
     },
     "execution_count": 48,
     "metadata": {},
     "output_type": "execute_result"
    }
   ],
   "source": [
    "parahome_pcs.std(dim=[1, 2])"
   ]
  },
  {
   "cell_type": "markdown",
   "id": "437eab3c",
   "metadata": {},
   "source": [
    "## ModelNet filtered"
   ]
  },
  {
   "cell_type": "code",
   "execution_count": 49,
   "id": "f1978fe8",
   "metadata": {},
   "outputs": [],
   "source": [
    "model_net_idx_to_label_intersection = {idx: label for idx, label in model_net_idx_to_label.items() if \n",
    "                                      label in intersection_set}"
   ]
  },
  {
   "cell_type": "code",
   "execution_count": 50,
   "id": "15f18ce9",
   "metadata": {},
   "outputs": [
    {
     "data": {
      "text/plain": [
       "{4: 'bookshelf',\n",
       " 6: 'bowl',\n",
       " 8: 'chair',\n",
       " 10: 'cup',\n",
       " 12: 'desk',\n",
       " 20: 'laptop',\n",
       " 29: 'sink'}"
      ]
     },
     "execution_count": 50,
     "metadata": {},
     "output_type": "execute_result"
    }
   ],
   "source": [
    "model_net_idx_to_label_intersection"
   ]
  },
  {
   "cell_type": "code",
   "execution_count": 51,
   "id": "23786458",
   "metadata": {},
   "outputs": [
    {
     "data": {
      "text/plain": [
       "(9840, 2048, 3)"
      ]
     },
     "execution_count": 51,
     "metadata": {},
     "output_type": "execute_result"
    }
   ],
   "source": [
    "testset.data_class.data.shape"
   ]
  },
  {
   "cell_type": "code",
   "execution_count": 52,
   "id": "66eed28e",
   "metadata": {},
   "outputs": [],
   "source": [
    "class FilteredModelNet(torch.utils.data.Dataset):\n",
    "    def __init__(self, classification_data: ClassificationData, allowed_labels: dict):\n",
    "        self.cls_data = classification_data\n",
    "        self.allowed_labels = allowed_labels\n",
    "        \n",
    "        self.idx_to_label = {\n",
    "            idx: label[0] for idx, label in enumerate(self.cls_data.data_class.labels)\n",
    "            if label[0] in allowed_labels\n",
    "        }\n",
    "        self.labels = list(self.idx_to_label.values())\n",
    "        self.data_label = [self.cls_data.data_class[idx] for idx in self.idx_to_label.keys()]\n",
    "        \n",
    "        \n",
    "    def __len__(self):\n",
    "        return len(self.labels)\n",
    "    \n",
    "    def __getitem__(self, idx):\n",
    "        return self.data_label[idx]"
   ]
  },
  {
   "cell_type": "code",
   "execution_count": 53,
   "id": "66929942",
   "metadata": {},
   "outputs": [],
   "source": [
    "filtered_dataset = FilteredModelNet(testset, model_net_idx_to_label_intersection)"
   ]
  },
  {
   "cell_type": "code",
   "execution_count": 54,
   "id": "826e57d9",
   "metadata": {},
   "outputs": [],
   "source": [
    "filtered_dataloader = DataLoader(filtered_dataset, batch_size=128, shuffle=False, drop_last=False)"
   ]
  },
  {
   "cell_type": "code",
   "execution_count": 55,
   "id": "4ec52c16",
   "metadata": {},
   "outputs": [
    {
     "data": {
      "text/plain": [
       "torch.Size([128, 1024, 3])"
      ]
     },
     "execution_count": 55,
     "metadata": {},
     "output_type": "execute_result"
    }
   ],
   "source": [
    "next(iter(filtered_dataloader))[0].shape"
   ]
  },
  {
   "cell_type": "code",
   "execution_count": 56,
   "id": "dfb18749",
   "metadata": {},
   "outputs": [
    {
     "data": {
      "text/plain": [
       "2081"
      ]
     },
     "execution_count": 56,
     "metadata": {},
     "output_type": "execute_result"
    }
   ],
   "source": [
    "len(filtered_dataset)"
   ]
  },
  {
   "cell_type": "markdown",
   "id": "938aa4ef",
   "metadata": {},
   "source": [
    "## ModelNet embeddings"
   ]
  },
  {
   "cell_type": "code",
   "execution_count": 57,
   "id": "8d173191",
   "metadata": {},
   "outputs": [],
   "source": [
    "def inference(model, dataloader):\n",
    "    embeddings = []\n",
    "    model.eval()\n",
    "    with torch.no_grad():\n",
    "        for pcs, labels in tqdm(dataloader):\n",
    "            embeddings.append(model(pcs))\n",
    "    return torch.vstack(embeddings)"
   ]
  },
  {
   "cell_type": "code",
   "execution_count": 58,
   "id": "b902fa71",
   "metadata": {},
   "outputs": [
    {
     "name": "stderr",
     "output_type": "stream",
     "text": [
      "100%|███████████████████████████████████████████| 17/17 [01:02<00:00,  3.65s/it]\n"
     ]
    }
   ],
   "source": [
    "modelnet_embeddings = inference(model, filtered_dataloader)"
   ]
  },
  {
   "cell_type": "code",
   "execution_count": 59,
   "id": "a8c488d1",
   "metadata": {},
   "outputs": [
    {
     "data": {
      "text/plain": [
       "torch.Size([2081, 256])"
      ]
     },
     "execution_count": 59,
     "metadata": {},
     "output_type": "execute_result"
    }
   ],
   "source": [
    "modelnet_embeddings.shape"
   ]
  },
  {
   "cell_type": "code",
   "execution_count": 60,
   "id": "b5fb715b",
   "metadata": {},
   "outputs": [],
   "source": [
    "similarities = torch.nn.functional.cosine_similarity(\n",
    "    modelnet_embeddings.unsqueeze(1),\n",
    "    parahome_embeddings.unsqueeze(0),\n",
    "    dim=2\n",
    ")"
   ]
  },
  {
   "cell_type": "code",
   "execution_count": 61,
   "id": "be5be0a7",
   "metadata": {},
   "outputs": [
    {
     "data": {
      "text/plain": [
       "torch.Size([2081, 22])"
      ]
     },
     "execution_count": 61,
     "metadata": {},
     "output_type": "execute_result"
    }
   ],
   "source": [
    "similarities.shape"
   ]
  },
  {
   "cell_type": "code",
   "execution_count": 62,
   "id": "0335132c",
   "metadata": {},
   "outputs": [],
   "source": [
    "most_similar_indices = similarities.max(dim=1)[1]"
   ]
  },
  {
   "cell_type": "markdown",
   "id": "2dd5673e",
   "metadata": {},
   "source": [
    "**Do we need also to look at some top-k metric?**"
   ]
  },
  {
   "cell_type": "code",
   "execution_count": 63,
   "id": "5636d2b5",
   "metadata": {},
   "outputs": [],
   "source": [
    "df_sim = pd.DataFrame(\n",
    "    {\"modelnet_idx\": filtered_dataset.labels,\n",
    "    \"parahome_idx\": most_similar_indices.numpy()}\n",
    ")"
   ]
  },
  {
   "cell_type": "code",
   "execution_count": 64,
   "id": "f46b785c",
   "metadata": {},
   "outputs": [],
   "source": [
    "parahome_idx_to_label = {idx: label for idx, label in enumerate(parahome_classes)}"
   ]
  },
  {
   "cell_type": "code",
   "execution_count": 76,
   "id": "6e9c26a8",
   "metadata": {},
   "outputs": [],
   "source": [
    "parahome_label_to_idx = {label: idx for idx, label in parahome_idx_to_label.items()}"
   ]
  },
  {
   "cell_type": "code",
   "execution_count": 65,
   "id": "d2f4a26e",
   "metadata": {},
   "outputs": [],
   "source": [
    "df_sim[\"modelnet_label\"] = df_sim[\"modelnet_idx\"].map(model_net_idx_to_label)\n",
    "df_sim[\"parahome_label\"] = df_sim[\"parahome_idx\"].map(parahome_idx_to_label)"
   ]
  },
  {
   "cell_type": "code",
   "execution_count": 66,
   "id": "ea951230",
   "metadata": {},
   "outputs": [
    {
     "data": {
      "text/html": [
       "<div>\n",
       "<style scoped>\n",
       "    .dataframe tbody tr th:only-of-type {\n",
       "        vertical-align: middle;\n",
       "    }\n",
       "\n",
       "    .dataframe tbody tr th {\n",
       "        vertical-align: top;\n",
       "    }\n",
       "\n",
       "    .dataframe thead th {\n",
       "        text-align: right;\n",
       "    }\n",
       "</style>\n",
       "<table border=\"1\" class=\"dataframe\">\n",
       "  <thead>\n",
       "    <tr style=\"text-align: right;\">\n",
       "      <th></th>\n",
       "      <th>modelnet_idx</th>\n",
       "      <th>parahome_idx</th>\n",
       "      <th>modelnet_label</th>\n",
       "      <th>parahome_label</th>\n",
       "    </tr>\n",
       "  </thead>\n",
       "  <tbody>\n",
       "    <tr>\n",
       "      <th>0</th>\n",
       "      <td>12</td>\n",
       "      <td>15</td>\n",
       "      <td>desk</td>\n",
       "      <td>refrigerator</td>\n",
       "    </tr>\n",
       "    <tr>\n",
       "      <th>1</th>\n",
       "      <td>29</td>\n",
       "      <td>8</td>\n",
       "      <td>sink</td>\n",
       "      <td>diningtable</td>\n",
       "    </tr>\n",
       "    <tr>\n",
       "      <th>2</th>\n",
       "      <td>4</td>\n",
       "      <td>14</td>\n",
       "      <td>bookshelf</td>\n",
       "      <td>bookshelf</td>\n",
       "    </tr>\n",
       "    <tr>\n",
       "      <th>3</th>\n",
       "      <td>8</td>\n",
       "      <td>11</td>\n",
       "      <td>chair</td>\n",
       "      <td>sink</td>\n",
       "    </tr>\n",
       "    <tr>\n",
       "      <th>4</th>\n",
       "      <td>4</td>\n",
       "      <td>9</td>\n",
       "      <td>bookshelf</td>\n",
       "      <td>desk</td>\n",
       "    </tr>\n",
       "    <tr>\n",
       "      <th>...</th>\n",
       "      <td>...</td>\n",
       "      <td>...</td>\n",
       "      <td>...</td>\n",
       "      <td>...</td>\n",
       "    </tr>\n",
       "    <tr>\n",
       "      <th>2076</th>\n",
       "      <td>4</td>\n",
       "      <td>7</td>\n",
       "      <td>bookshelf</td>\n",
       "      <td>chair</td>\n",
       "    </tr>\n",
       "    <tr>\n",
       "      <th>2077</th>\n",
       "      <td>8</td>\n",
       "      <td>8</td>\n",
       "      <td>chair</td>\n",
       "      <td>diningtable</td>\n",
       "    </tr>\n",
       "    <tr>\n",
       "      <th>2078</th>\n",
       "      <td>8</td>\n",
       "      <td>11</td>\n",
       "      <td>chair</td>\n",
       "      <td>sink</td>\n",
       "    </tr>\n",
       "    <tr>\n",
       "      <th>2079</th>\n",
       "      <td>8</td>\n",
       "      <td>11</td>\n",
       "      <td>chair</td>\n",
       "      <td>sink</td>\n",
       "    </tr>\n",
       "    <tr>\n",
       "      <th>2080</th>\n",
       "      <td>4</td>\n",
       "      <td>9</td>\n",
       "      <td>bookshelf</td>\n",
       "      <td>desk</td>\n",
       "    </tr>\n",
       "  </tbody>\n",
       "</table>\n",
       "<p>2081 rows × 4 columns</p>\n",
       "</div>"
      ],
      "text/plain": [
       "      modelnet_idx  parahome_idx modelnet_label parahome_label\n",
       "0               12            15           desk   refrigerator\n",
       "1               29             8           sink    diningtable\n",
       "2                4            14      bookshelf      bookshelf\n",
       "3                8            11          chair           sink\n",
       "4                4             9      bookshelf           desk\n",
       "...            ...           ...            ...            ...\n",
       "2076             4             7      bookshelf          chair\n",
       "2077             8             8          chair    diningtable\n",
       "2078             8            11          chair           sink\n",
       "2079             8            11          chair           sink\n",
       "2080             4             9      bookshelf           desk\n",
       "\n",
       "[2081 rows x 4 columns]"
      ]
     },
     "execution_count": 66,
     "metadata": {},
     "output_type": "execute_result"
    }
   ],
   "source": [
    "df_sim"
   ]
  },
  {
   "cell_type": "code",
   "execution_count": 67,
   "id": "8fd477cb",
   "metadata": {},
   "outputs": [
    {
     "data": {
      "text/plain": [
       "array(['desk', 'sink', 'bookshelf', 'chair', 'cup', 'laptop', 'bowl'],\n",
       "      dtype=object)"
      ]
     },
     "execution_count": 67,
     "metadata": {},
     "output_type": "execute_result"
    }
   ],
   "source": [
    "df_sim[\"modelnet_label\"].unique()"
   ]
  },
  {
   "cell_type": "code",
   "execution_count": 68,
   "id": "886a8093",
   "metadata": {},
   "outputs": [
    {
     "data": {
      "text/plain": [
       "array(['refrigerator', 'diningtable', 'bookshelf', 'sink', 'desk',\n",
       "       'chair', 'washingmachine', 'pan', 'pot', 'salt', 'trashbin',\n",
       "       'drawer', 'knife', 'gasstove'], dtype=object)"
      ]
     },
     "execution_count": 68,
     "metadata": {},
     "output_type": "execute_result"
    }
   ],
   "source": [
    "df_sim[\"parahome_label\"].unique()"
   ]
  },
  {
   "cell_type": "code",
   "execution_count": 69,
   "id": "0d8a9e45",
   "metadata": {},
   "outputs": [],
   "source": [
    "confusion_mat = pd.crosstab(df_sim[\"modelnet_label\"], df_sim[\"parahome_label\"])"
   ]
  },
  {
   "cell_type": "code",
   "execution_count": 70,
   "id": "a799e8a2",
   "metadata": {},
   "outputs": [
    {
     "data": {
      "image/png": "[encoded data removed]",
      "text/plain": [
       "<Figure size 1200x800 with 2 Axes>"
      ]
     },
     "metadata": {},
     "output_type": "display_data"
    }
   ],
   "source": [
    "# Visualize the confusion matrix\n",
    "plt.figure(figsize=(12, 8))\n",
    "sns.heatmap(confusion_mat, annot=True, fmt='d', cmap='Blues')\n",
    "plt.title('Confusion Matrix')\n",
    "plt.show()"
   ]
  },
  {
   "cell_type": "markdown",
   "id": "37a5d77c",
   "metadata": {},
   "source": [
    "**Q:** why are the results so bad?"
   ]
  },
  {
   "cell_type": "code",
   "execution_count": 71,
   "id": "dfdf3e4f",
   "metadata": {},
   "outputs": [],
   "source": [
    "def show_modelnet_obj(dataloader, category: str, num=0):\n",
    "    if category not in model_net_label_to_idx:\n",
    "        raise ValueError(f\"{category} not in ModelNet categories\")\n",
    "    num_obj = 0\n",
    "    idx = model_net_label_to_idx[category]\n",
    "    for batch, labels in dataloader:\n",
    "        labels = labels.flatten().tolist()\n",
    "        if idx not in labels:\n",
    "            continue\n",
    "        if num_obj >= num:\n",
    "            curr_idx = labels.index(idx)\n",
    "            display_open3d(batch[curr_idx])\n",
    "            break\n",
    "        else:\n",
    "            num_obj += 1\n",
    "            continue"
   ]
  },
  {
   "cell_type": "code",
   "execution_count": 81,
   "id": "1d9cb703",
   "metadata": {},
   "outputs": [
    {
     "name": "stdout",
     "output_type": "stream",
     "text": [
      "\u001b[1;33m[Open3D WARNING] GLFW Error: Cocoa: Failed to find service port for display\u001b[0;m\n"
     ]
    }
   ],
   "source": [
    "show_modelnet_obj(filtered_dataloader, \"laptop\", 7)"
   ]
  },
  {
   "cell_type": "code",
   "execution_count": 77,
   "id": "b1c14465",
   "metadata": {},
   "outputs": [],
   "source": [
    "def show_parahome_obj(category: str):\n",
    "    idx = parahome_label_to_idx[category]\n",
    "    \n",
    "    mesh = parahome_pcs[idx]\n",
    "    display_open3d(mesh)"
   ]
  },
  {
   "cell_type": "code",
   "execution_count": 80,
   "id": "ff415c22",
   "metadata": {},
   "outputs": [
    {
     "name": "stdout",
     "output_type": "stream",
     "text": [
      "\u001b[1;33m[Open3D WARNING] GLFW Error: Cocoa: Failed to find service port for display\u001b[0;m\n"
     ]
    }
   ],
   "source": [
    "show_parahome_obj(\"laptop\")"
   ]
  },
  {
   "cell_type": "code",
   "execution_count": null,
   "id": "e9c9eac9",
   "metadata": {},
   "outputs": [],
   "source": []
  },
  {
   "cell_type": "code",
   "execution_count": null,
   "id": "67589c65",
   "metadata": {},
   "outputs": [],
   "source": []
  },
  {
   "cell_type": "code",
   "execution_count": null,
   "id": "3ce6c0ae",
   "metadata": {},
   "outputs": [],
   "source": []
  },
  {
   "cell_type": "code",
   "execution_count": null,
   "id": "c2b27a3f",
   "metadata": {},
   "outputs": [],
   "source": []
  },
  {
   "cell_type": "code",
   "execution_count": null,
   "id": "eb7dd397",
   "metadata": {},
   "outputs": [],
   "source": []
  },
  {
   "cell_type": "code",
   "execution_count": null,
   "id": "f3095dd9",
   "metadata": {},
   "outputs": [],
   "source": []
  },
  {
   "cell_type": "code",
   "execution_count": null,
   "id": "3e67b967",
   "metadata": {},
   "outputs": [],
   "source": []
  },
  {
   "cell_type": "code",
   "execution_count": 60,
   "id": "62c51702",
   "metadata": {},
   "outputs": [
    {
     "name": "stdout",
     "output_type": "stream",
     "text": [
      "\u001b[1;33m[Open3D WARNING] GLFW Error: Cocoa: Failed to find service port for display\u001b[0;m\n"
     ]
    }
   ],
   "source": [
    "display_open3d(batch[0][26])"
   ]
  },
  {
   "cell_type": "code",
   "execution_count": null,
   "id": "18f861c9",
   "metadata": {},
   "outputs": [],
   "source": []
  }
 ],
 "metadata": {
  "kernelspec": {
   "display_name": "learning3d",
   "language": "python",
   "name": "learning3d"
  },
  "language_info": {
   "codemirror_mode": {
    "name": "ipython",
    "version": 3
   },
   "file_extension": ".py",
   "mimetype": "text/x-python",
   "name": "python",
   "nbconvert_exporter": "python",
   "pygments_lexer": "ipython3",
   "version": "3.8.19"
  }
 },
 "nbformat": 4,
 "nbformat_minor": 5
}
