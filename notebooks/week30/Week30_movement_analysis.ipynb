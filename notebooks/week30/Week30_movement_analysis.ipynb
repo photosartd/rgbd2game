{
 "cells": [
  {
   "cell_type": "code",
   "execution_count": 51,
   "id": "6691ae24",
   "metadata": {},
   "outputs": [],
   "source": [
    "import os\n",
    "import numpy as np\n",
    "from plyfile import PlyData\n",
    "import matplotlib.pyplot as plt\n",
    "from collections import Counter\n",
    "\n",
    "from tqdm import tqdm\n",
    "import gc\n",
    "import torch"
   ]
  },
  {
   "cell_type": "markdown",
   "id": "3dd471d8",
   "metadata": {},
   "source": [
    "# Analysis"
   ]
  },
  {
   "cell_type": "code",
   "execution_count": 26,
   "id": "3127edff",
   "metadata": {},
   "outputs": [],
   "source": [
    "class Gaussians:\n",
    "    def __init__(self, folder: str):\n",
    "        self.folder = folder\n",
    "        self.files = self.get_files()\n",
    "        self._index = 0 #For iterator\n",
    "        \n",
    "    def get_files(self):\n",
    "        files = list(sorted(filter(lambda x: x.endswith(\".ply\"), os.listdir(self.folder))))\n",
    "        return [os.path.join(self.folder, filename) for filename in files]\n",
    "        \n",
    "    @staticmethod\n",
    "    def read_ply_file(file_path):\n",
    "        plydata = PlyData.read(file_path)\n",
    "        data = plydata['vertex'].data\n",
    "        return data\n",
    "    \n",
    "    @staticmethod\n",
    "    def extract_gaussian_attributes(data):\n",
    "        attributes = {}\n",
    "        attributes['positions'] = np.vstack((data['x'], data['y'], data['z'])).T\n",
    "        attributes['normals'] = np.vstack((data['nx'], data['ny'], data['nz'])).T\n",
    "        attributes['features_dc'] = np.vstack([data[name] for name in data.dtype.names if 'f_dc' in name]).T\n",
    "        attributes['features_rest'] = np.vstack([data[name] for name in data.dtype.names if 'f_rest' in name]).T\n",
    "        attributes['opacity'] = data['opacity']\n",
    "        attributes['scale'] = np.vstack([data[name] for name in data.dtype.names if 'scale' in name]).T\n",
    "        attributes['rotation'] = np.vstack([data[name] for name in data.dtype.names if 'rot' in name]).T\n",
    "        return attributes\n",
    "    \n",
    "    @staticmethod\n",
    "    def load_attributes(path: str):\n",
    "        return Gaussians.extract_gaussian_attributes(Gaussians.read_ply_file(path))\n",
    "    \n",
    "    def __len__(self):\n",
    "        return len(self.files)\n",
    "    \n",
    "    def __getitem__(self, idx):\n",
    "        return Gaussians.load_attributes(self.files[idx])\n",
    "    \n",
    "    def __iter__(self):\n",
    "        self._index = 0\n",
    "        return self\n",
    "\n",
    "    def __next__(self):\n",
    "        if self._index < len(self):\n",
    "            result = self[self._index]\n",
    "            self._index += 1\n",
    "            return result\n",
    "        else:\n",
    "            raise StopIteration\n",
    "            \n",
    "    def get_positions(self, idx: int, vertices: np.ndarray = None):\n",
    "        positions = Gaussians.load_attributes(self.files[idx])[\"positions\"]\n",
    "        if vertices is not None:\n",
    "            return positions[vertices]\n",
    "        return positions\n",
    "    \n",
    "    def positions_differences(self) -> list:\n",
    "        indices = list(range(len(self)))\n",
    "        euclidean_differences = [] \n",
    "        for first, second in tqdm(zip(indices[:-1], indices[1:])):\n",
    "            att_1 = self[first]\n",
    "            att_2 = self[second]\n",
    "            position_diff = (((att_2[\"positions\"] - att_1[\"positions\"]) ** 2).mean(axis=1) ** (1/2))\n",
    "            euclidean_differences.append(position_diff)\n",
    "        return euclidean_differences\n",
    "    \n",
    "    @staticmethod\n",
    "    def summed_windowed_position_differences(position_differences: list, window=3) -> list:\n",
    "        return [sum(position_differences[idx: idx + window]) for idx in range(len(position_differences) - window)]\n",
    "    \n",
    "    @staticmethod\n",
    "    def outliers_per_window(summed_diffs: list, diff_norm: float = 10.0) -> list:\n",
    "        return [diffs[diffs > diff_norm].shape[0] for diffs in summed_diffs]\n",
    "    \n",
    "    @staticmethod\n",
    "    def get_outlier_vertices(summed_diffs: list, diff_norm: float = 10.0) -> np.ndarray:\n",
    "        outliers_vertices = []\n",
    "        for diffs in summed_diffs:\n",
    "            outliers_vertices.append(np.where(diffs > diff_norm)[0])\n",
    "        return np.array(outliers_vertices)"
   ]
  },
  {
   "cell_type": "code",
   "execution_count": 27,
   "id": "2960589b",
   "metadata": {},
   "outputs": [],
   "source": [
    "folder = \"/vol/isy-rl/prj-rgbd2mesh/dtrofimov/4DGaussians/output/home-inter/gaussian_pertimestamp/\""
   ]
  },
  {
   "cell_type": "code",
   "execution_count": 28,
   "id": "4dee35e4",
   "metadata": {},
   "outputs": [],
   "source": [
    "gaussians = Gaussians(folder)"
   ]
  },
  {
   "cell_type": "code",
   "execution_count": 9,
   "id": "dde1c1fb",
   "metadata": {},
   "outputs": [
    {
     "name": "stderr",
     "output_type": "stream",
     "text": [
      "200it [00:22,  8.81it/s]\n"
     ]
    }
   ],
   "source": [
    "pos_diffs = gaussians.positions_differences()"
   ]
  },
  {
   "cell_type": "code",
   "execution_count": 10,
   "id": "e45e0343",
   "metadata": {},
   "outputs": [],
   "source": [
    "summed_diffs_3 = Gaussians.summed_windowed_position_differences(pos_diffs, 3)"
   ]
  },
  {
   "cell_type": "markdown",
   "id": "27d770af",
   "metadata": {},
   "source": [
    "Let's try to understand if for some timestamps/threshold pairs we see some seemable change:"
   ]
  },
  {
   "cell_type": "code",
   "execution_count": 192,
   "id": "3bdfe962",
   "metadata": {},
   "outputs": [],
   "source": [
    "min_change_per_3_steps = 0.5"
   ]
  },
  {
   "cell_type": "code",
   "execution_count": 193,
   "id": "6919f602",
   "metadata": {},
   "outputs": [],
   "source": [
    "changes = Gaussians.outliers_per_window(summed_diffs_3, min_change_per_3_steps)"
   ]
  },
  {
   "cell_type": "code",
   "execution_count": 194,
   "id": "d25d16b7",
   "metadata": {},
   "outputs": [
    {
     "data": {
      "text/plain": [
       "197"
      ]
     },
     "execution_count": 194,
     "metadata": {},
     "output_type": "execute_result"
    }
   ],
   "source": [
    "len(changes)"
   ]
  },
  {
   "cell_type": "code",
   "execution_count": 195,
   "id": "19be4954",
   "metadata": {},
   "outputs": [
    {
     "data": {
      "text/plain": [
       "[<matplotlib.lines.Line2D at 0x7fad88a58350>]"
      ]
     },
     "execution_count": 195,
     "metadata": {},
     "output_type": "execute_result"
    },
    {
     "data": {
      "image/png": "[encoded data removed]",
      "text/plain": [
       "<Figure size 640x480 with 1 Axes>"
      ]
     },
     "metadata": {},
     "output_type": "display_data"
    }
   ],
   "source": [
    "plt.plot(changes)"
   ]
  },
  {
   "cell_type": "code",
   "execution_count": 196,
   "id": "18a54e61",
   "metadata": {},
   "outputs": [
    {
     "name": "stderr",
     "output_type": "stream",
     "text": [
      "/vol/isy-rl/dtrofimov/conda-isy/envs/Gaussians4D/lib/python3.7/site-packages/ipykernel_launcher.py:80: VisibleDeprecationWarning: Creating an ndarray from ragged nested sequences (which is a list-or-tuple of lists-or-tuples-or ndarrays with different lengths or shapes) is deprecated. If you meant to do this, you must specify 'dtype=object' when creating the ndarray.\n"
     ]
    }
   ],
   "source": [
    "vertices = Gaussians.get_outlier_vertices(summed_diffs_3, min_change_per_3_steps)"
   ]
  },
  {
   "cell_type": "code",
   "execution_count": 132,
   "id": "68dccfe3",
   "metadata": {},
   "outputs": [],
   "source": [
    "np.savez(\"/vol/isy-rl/prj-rgbd2mesh/dtrofimov/4DGaussians/output/home-inter/gs_most_moving.npz\", v=vertices)"
   ]
  },
  {
   "cell_type": "markdown",
   "id": "a8473a47",
   "metadata": {},
   "source": [
    "**For now we did:**\n",
    "1. Calculated differences betwee Gaussians between timesteps\n",
    "2. Summed them over the window of 3 timestamps to find big changes\n",
    "3. Thresholded them to try to highlight Gaussians that changed the most in each timeframe\n",
    "\n",
    "**Now let's try to:**\n",
    "1. Find the moment where the biggest number of Gaussians changed their positions\n",
    "2. Take these vertices and their positions\n",
    "3. Cluster them with some algorithm to get 1 cluster of Gaussians for the door"
   ]
  },
  {
   "cell_type": "markdown",
   "id": "8e38c77c",
   "metadata": {},
   "source": [
    "## DBSCAN"
   ]
  },
  {
   "cell_type": "code",
   "execution_count": 197,
   "id": "edfa2043",
   "metadata": {},
   "outputs": [],
   "source": [
    "from sklearn.cluster import DBSCAN\n",
    "from sklearn.neighbors import NearestNeighbors"
   ]
  },
  {
   "cell_type": "code",
   "execution_count": 198,
   "id": "2f79591b",
   "metadata": {},
   "outputs": [
    {
     "name": "stdout",
     "output_type": "stream",
     "text": [
      "Frame with the most changes in Gaussians: 110\n"
     ]
    }
   ],
   "source": [
    "frame_with_max_changes = np.argmax(changes)\n",
    "print(f\"Frame with the most changes in Gaussians: {frame_with_max_changes}\")"
   ]
  },
  {
   "cell_type": "code",
   "execution_count": 199,
   "id": "319e9d48",
   "metadata": {},
   "outputs": [
    {
     "data": {
      "text/plain": [
       "(5929,)"
      ]
     },
     "execution_count": 199,
     "metadata": {},
     "output_type": "execute_result"
    }
   ],
   "source": [
    "vertices[frame_with_max_changes].shape"
   ]
  },
  {
   "cell_type": "code",
   "execution_count": 200,
   "id": "3c9a398f",
   "metadata": {},
   "outputs": [],
   "source": [
    "gaussians_for_clustering = gaussians.get_positions(frame_with_max_changes, vertices[frame_with_max_changes])"
   ]
  },
  {
   "cell_type": "code",
   "execution_count": 202,
   "id": "c49e90fa",
   "metadata": {},
   "outputs": [
    {
     "data": {
      "text/plain": [
       "(5929, 3)"
      ]
     },
     "execution_count": 202,
     "metadata": {},
     "output_type": "execute_result"
    }
   ],
   "source": [
    "gaussians_for_clustering.shape"
   ]
  },
  {
   "cell_type": "code",
   "execution_count": 203,
   "id": "1dc4f489",
   "metadata": {},
   "outputs": [],
   "source": [
    "min_samples = 50"
   ]
  },
  {
   "cell_type": "code",
   "execution_count": 204,
   "id": "fede16a9",
   "metadata": {},
   "outputs": [],
   "source": [
    "neigh = NearestNeighbors(n_neighbors=min_samples)\n",
    "nbrs = neigh.fit(gaussians_for_clustering)\n",
    "distances, indices = nbrs.kneighbors(gaussians_for_clustering)\n",
    "\n",
    "k_distances = distances[:, min_samples-1]\n",
    "k_distances = np.sort(k_distances)"
   ]
  },
  {
   "cell_type": "code",
   "execution_count": 206,
   "id": "76639605",
   "metadata": {},
   "outputs": [
    {
     "data": {
      "text/plain": [
       "2.9599858464653814"
      ]
     },
     "execution_count": 206,
     "metadata": {},
     "output_type": "execute_result"
    }
   ],
   "source": [
    "k_distances[5000]"
   ]
  },
  {
   "cell_type": "code",
   "execution_count": 207,
   "id": "bf569fbe",
   "metadata": {},
   "outputs": [
    {
     "data": {
      "image/png": "[encoded data removed]",
      "text/plain": [
       "<Figure size 640x480 with 1 Axes>"
      ]
     },
     "metadata": {},
     "output_type": "display_data"
    }
   ],
   "source": [
    "plt.plot(k_distances)\n",
    "plt.xlabel('Points sorted by distance')\n",
    "plt.ylabel('k-distance')\n",
    "plt.title('Elbow Method for Choosing eps')\n",
    "plt.show()"
   ]
  },
  {
   "cell_type": "code",
   "execution_count": 208,
   "id": "b8870a65",
   "metadata": {},
   "outputs": [],
   "source": [
    "clustering = DBSCAN(eps=0.30, min_samples=50).fit(gaussians_for_clustering)"
   ]
  },
  {
   "cell_type": "code",
   "execution_count": 209,
   "id": "a059a04e",
   "metadata": {},
   "outputs": [],
   "source": [
    "def biggest_cluster(clustering):\n",
    "    cnt = Counter(clustering.labels_)\n",
    "    del cnt[-1]\n",
    "    cnt = sorted(cnt.items(), key=lambda x: x[1], reverse=True)[0]\n",
    "    return cnt"
   ]
  },
  {
   "cell_type": "code",
   "execution_count": 210,
   "id": "0e02a656",
   "metadata": {},
   "outputs": [],
   "source": [
    "cluster = biggest_cluster(clustering)"
   ]
  },
  {
   "cell_type": "code",
   "execution_count": 211,
   "id": "fdce85f8",
   "metadata": {},
   "outputs": [
    {
     "data": {
      "text/plain": [
       "(3, 465)"
      ]
     },
     "execution_count": 211,
     "metadata": {},
     "output_type": "execute_result"
    }
   ],
   "source": [
    "cluster"
   ]
  },
  {
   "cell_type": "code",
   "execution_count": 213,
   "id": "3453b4a5",
   "metadata": {},
   "outputs": [
    {
     "data": {
      "text/plain": [
       "Counter({-1: 4691,\n",
       "         5: 91,\n",
       "         3: 465,\n",
       "         0: 143,\n",
       "         1: 172,\n",
       "         2: 63,\n",
       "         4: 63,\n",
       "         8: 80,\n",
       "         7: 79,\n",
       "         6: 82})"
      ]
     },
     "execution_count": 213,
     "metadata": {},
     "output_type": "execute_result"
    }
   ],
   "source": [
    "Counter(clustering.labels_)"
   ]
  },
  {
   "cell_type": "code",
   "execution_count": 214,
   "id": "fec9733e",
   "metadata": {},
   "outputs": [
    {
     "data": {
      "text/plain": [
       "(465,)"
      ]
     },
     "execution_count": 214,
     "metadata": {},
     "output_type": "execute_result"
    }
   ],
   "source": [
    "vertices[frame_with_max_changes][clustering.labels_ == cluster[0]].shape"
   ]
  },
  {
   "cell_type": "code",
   "execution_count": 216,
   "id": "c00f4e75",
   "metadata": {},
   "outputs": [],
   "source": [
    "np.savez(\"/vol/isy-rl/prj-rgbd2mesh/dtrofimov/4DGaussians/output/home-inter/gs_clustered.npz\",\n",
    "         v=np.tile(vertices[frame_with_max_changes][clustering.labels_ == cluster[0]].reshape(1, -1), (380, 1)))"
   ]
  },
  {
   "cell_type": "code",
   "execution_count": null,
   "id": "2e22b54c",
   "metadata": {},
   "outputs": [],
   "source": []
  }
 ],
 "metadata": {
  "kernelspec": {
   "display_name": "Gaussians4D",
   "language": "python",
   "name": "gaussians4d"
  },
  "language_info": {
   "codemirror_mode": {
    "name": "ipython",
    "version": 3
   },
   "file_extension": ".py",
   "mimetype": "text/x-python",
   "name": "python",
   "nbconvert_exporter": "python",
   "pygments_lexer": "ipython3",
   "version": "3.7.12"
  }
 },
 "nbformat": 4,
 "nbformat_minor": 5
}
