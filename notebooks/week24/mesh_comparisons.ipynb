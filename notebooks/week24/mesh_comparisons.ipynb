{
 "cells": [
  {
   "cell_type": "code",
   "execution_count": 1,
   "id": "144d247b",
   "metadata": {},
   "outputs": [],
   "source": [
    "from collections import OrderedDict\n",
    "import glob\n",
    "import os\n",
    "import numpy as np\n",
    "import pandas as pd\n",
    "\n",
    "import torch\n",
    "import torch.nn as nn\n",
    "from torch.utils.data import DataLoader\n",
    "import open3d as o3d\n",
    "import h5py\n",
    "import matplotlib.pyplot as plt\n",
    "import seaborn as sns\n",
    "from tqdm import tqdm\n",
    "from sklearn.metrics import confusion_matrix\n",
    "\n",
    "from learning3d.models import PointNet, Classifier\n",
    "from learning3d.data_utils import ClassificationData, ModelNet40Data"
   ]
  },
  {
   "cell_type": "markdown",
   "id": "f0f2fe6b",
   "metadata": {},
   "source": [
    "# Data Loading"
   ]
  },
  {
   "cell_type": "code",
   "execution_count": 4,
   "id": "bd2df944",
   "metadata": {},
   "outputs": [],
   "source": [
    "testset = ClassificationData(ModelNet40Data(train=True, num_points=1024, download=True))\n",
    "test_loader = DataLoader(testset, batch_size=32, shuffle=False, drop_last=False)"
   ]
  },
  {
   "cell_type": "code",
   "execution_count": 5,
   "id": "153325e1",
   "metadata": {},
   "outputs": [],
   "source": [
    "modelnet_labels = [\n",
    "    'airplane', 'bathtub', 'bed', 'bench', 'bookshelf', 'bottle', 'bowl', 'car',\n",
    "    'chair', 'cone', 'cup', 'curtain', 'desk', 'door', 'dresser', 'flower_pot',\n",
    "    'glass_box', 'guitar', 'keyboard', 'lamp', 'laptop', 'mantel', 'monitor',\n",
    "    'night_stand', 'person', 'piano', 'plant', 'radio', 'range_hood', 'sink',\n",
    "    'sofa', 'stairs', 'stool', 'table', 'tent', 'toilet', 'tv_stand', 'vase',\n",
    "    'wardrobe', 'xbox'\n",
    "]"
   ]
  },
  {
   "cell_type": "code",
   "execution_count": 34,
   "id": "7f904996",
   "metadata": {},
   "outputs": [
    {
     "data": {
      "text/plain": [
       "20"
      ]
     },
     "execution_count": 34,
     "metadata": {},
     "output_type": "execute_result"
    }
   ],
   "source": [
    "modelnet_labels.index(\"laptop\")"
   ]
  },
  {
   "cell_type": "code",
   "execution_count": 9,
   "id": "e07356a9",
   "metadata": {},
   "outputs": [],
   "source": [
    "def parahome_get_pcs(path, num_points=1024):\n",
    "    #Find objects paths\n",
    "    parahome_objects = os.listdir(path)\n",
    "    parahome_objects_paths = list(\n",
    "        map(\n",
    "            lambda name: os.path.join(path, name),\n",
    "            parahome_objects\n",
    "        )\n",
    "    )\n",
    "    \n",
    "    #load\n",
    "    point_clouds = []\n",
    "    for mesh_path in parahome_objects_paths:\n",
    "        mesh = o3d.io.read_triangle_mesh(mesh_path)\n",
    "        mesh.compute_vertex_normals()\n",
    "        pcd = mesh.sample_points_uniformly(number_of_points=num_points)\n",
    "        point_clouds.append(torch.from_numpy(np.asarray(pcd.points, dtype=np.float32)))\n",
    "    return torch.stack(point_clouds, dim=0)"
   ]
  },
  {
   "cell_type": "code",
   "execution_count": 10,
   "id": "b3b5db50",
   "metadata": {},
   "outputs": [],
   "source": [
    "parahome_pcs = parahome_get_pcs(\"/Users/photosartd/repositories/ParaHome/data/objects_combined/\", 1024)"
   ]
  },
  {
   "cell_type": "code",
   "execution_count": 11,
   "id": "a4314b1c",
   "metadata": {},
   "outputs": [],
   "source": [
    "def display_mesh(mesh):\n",
    "    def close_window_callback(vis):\n",
    "        vis.close()  # This will close the visualizer window\n",
    "    # Create a Visualizer instance\n",
    "    vis = vis = o3d.visualization.VisualizerWithKeyCallback()\n",
    "    vis.create_window()\n",
    "\n",
    "    # Add point cloud to the visualizer\n",
    "    vis.add_geometry(mesh)\n",
    "\n",
    "    # Register the key callback for the 'Q' key to close the window\n",
    "    vis.register_key_callback(ord('Q'), close_window_callback)\n",
    "\n",
    "    # Run the visualizer\n",
    "    vis.run()\n",
    "\n",
    "    # Destroy the window when done\n",
    "    vis.destroy_window()"
   ]
  },
  {
   "cell_type": "code",
   "execution_count": 131,
   "id": "096f72a1",
   "metadata": {},
   "outputs": [],
   "source": [
    "def display_open3d(template, paint_uniform=False):\n",
    "    \n",
    "    def close_window_callback(vis):\n",
    "        vis.close()  # This will close the visualizer window\n",
    "        \n",
    "    # Create a Visualizer instance\n",
    "    vis = vis = o3d.visualization.VisualizerWithKeyCallback()\n",
    "    vis.create_window()\n",
    "    \n",
    "    colors = [[1, 0, 0], [0, 1, 0], [0, 0, 1]]\n",
    "    \n",
    "    if not isinstance(template, list):\n",
    "        template = [template]\n",
    "    for i, t in enumerate(template):\n",
    "        \n",
    "        template_ = o3d.geometry.PointCloud()\n",
    "        template_.points = o3d.utility.Vector3dVector(t)\n",
    "        if paint_uniform:\n",
    "            template_.paint_uniform_color(colors[i])\n",
    "        # template_.paint_uniform_color([1, 0, 0])\n",
    "\n",
    "        # Add point cloud to the visualizer\n",
    "        vis.add_geometry(template_)\n",
    "            \n",
    "\n",
    "    # Register the key callback for the 'Q' key to close the window\n",
    "    vis.register_key_callback(ord('Q'), close_window_callback)\n",
    "\n",
    "    # Run the visualizer\n",
    "    vis.run()\n",
    "\n",
    "    # Destroy the window when done\n",
    "    vis.destroy_window()"
   ]
  },
  {
   "cell_type": "code",
   "execution_count": 30,
   "id": "d9240085",
   "metadata": {},
   "outputs": [
    {
     "name": "stdout",
     "output_type": "stream",
     "text": [
      "\u001b[1;33m[Open3D WARNING] GLFW Error: Cocoa: Failed to find service port for display\u001b[0;m\n",
      "\u001b[1;33m[Open3D WARNING] GLFW Error: Cocoa: Failed to find service port for display\u001b[0;m\n"
     ]
    }
   ],
   "source": [
    "display_open3d(parahome_pcs[16]) #laptop"
   ]
  },
  {
   "cell_type": "code",
   "execution_count": 39,
   "id": "47995585",
   "metadata": {},
   "outputs": [
    {
     "data": {
      "text/plain": [
       "torch.Size([32, 1024, 3])"
      ]
     },
     "execution_count": 39,
     "metadata": {},
     "output_type": "execute_result"
    }
   ],
   "source": [
    "batch[0].shape"
   ]
  },
  {
   "cell_type": "code",
   "execution_count": 43,
   "id": "814474ef",
   "metadata": {},
   "outputs": [],
   "source": [
    "for batch in test_loader:\n",
    "    if 20 in batch[1].flatten():\n",
    "        break"
   ]
  },
  {
   "cell_type": "code",
   "execution_count": 45,
   "id": "17a1bb6d",
   "metadata": {},
   "outputs": [
    {
     "data": {
      "text/plain": [
       "tensor([[32],\n",
       "        [21],\n",
       "        [33],\n",
       "        [22],\n",
       "        [10],\n",
       "        [21],\n",
       "        [30],\n",
       "        [22],\n",
       "        [ 5],\n",
       "        [15],\n",
       "        [ 7],\n",
       "        [31],\n",
       "        [33],\n",
       "        [ 0],\n",
       "        [18],\n",
       "        [20],\n",
       "        [32],\n",
       "        [23],\n",
       "        [12],\n",
       "        [21],\n",
       "        [20],\n",
       "        [16],\n",
       "        [33],\n",
       "        [37],\n",
       "        [34],\n",
       "        [36],\n",
       "        [27],\n",
       "        [37],\n",
       "        [30],\n",
       "        [22],\n",
       "        [21],\n",
       "        [37]])"
      ]
     },
     "execution_count": 45,
     "metadata": {},
     "output_type": "execute_result"
    }
   ],
   "source": [
    "batch[1]"
   ]
  },
  {
   "cell_type": "code",
   "execution_count": 46,
   "id": "c073d993",
   "metadata": {},
   "outputs": [
    {
     "name": "stdout",
     "output_type": "stream",
     "text": [
      "\u001b[1;33m[Open3D WARNING] GLFW Error: Cocoa: Failed to find service port for display\u001b[0;m\n",
      "\u001b[1;33m[Open3D WARNING] GLFW Error: Cocoa: Failed to find service port for display\u001b[0;m\n"
     ]
    }
   ],
   "source": [
    "display_open3d(batch[0][15]) #laptop"
   ]
  },
  {
   "cell_type": "markdown",
   "id": "e40b78de",
   "metadata": {},
   "source": [
    "# Registration"
   ]
  },
  {
   "cell_type": "code",
   "execution_count": 63,
   "id": "5fd29e38",
   "metadata": {},
   "outputs": [
    {
     "name": "stdout",
     "output_type": "stream",
     "text": [
      "\u001b[1;33m[Open3D WARNING] GLFW Error: Cocoa: Failed to find service port for display\u001b[0;m\n",
      "\u001b[1;33m[Open3D WARNING] GLFW Error: Cocoa: Failed to find service port for display\u001b[0;m\n"
     ]
    }
   ],
   "source": [
    "display_open3d([np.asarray(res_parahome.points), batch[0][15]])"
   ]
  },
  {
   "cell_type": "code",
   "execution_count": 64,
   "id": "3bad4915",
   "metadata": {},
   "outputs": [
    {
     "name": "stdout",
     "output_type": "stream",
     "text": [
      "\u001b[1;33m[Open3D WARNING] GLFW Error: Cocoa: Failed to find service port for display\u001b[0;m\n",
      "\u001b[1;33m[Open3D WARNING] GLFW Error: Cocoa: Failed to find service port for display\u001b[0;m\n"
     ]
    }
   ],
   "source": [
    "display_open3d([parahome_pcs[16], batch[0][15]])"
   ]
  },
  {
   "cell_type": "code",
   "execution_count": 215,
   "id": "6c121bc2",
   "metadata": {},
   "outputs": [],
   "source": [
    "def calculate_scale(source, target):\n",
    "    source_size = np.linalg.norm(np.max(np.asarray(source.points), axis=0) - np.min(np.asarray(source.points), axis=0))\n",
    "    target_size = np.linalg.norm(np.max(np.asarray(target.points), axis=0) - np.min(np.asarray(target.points), axis=0))\n",
    "    return target_size / source_size\n",
    "\n",
    "def apply_scale(pcd, scale):\n",
    "    pcd.scale(scale, center=pcd.get_center())\n",
    "    return pcd"
   ]
  },
  {
   "cell_type": "code",
   "execution_count": 216,
   "id": "6818b7fb",
   "metadata": {},
   "outputs": [],
   "source": [
    "parahome_pcd = o3d.geometry.PointCloud(o3d.utility.Vector3dVector(parahome_pcs[16]))\n",
    "modelnet_pcd = o3d.geometry.PointCloud(o3d.utility.Vector3dVector(batch[0][15]))\n",
    "\n",
    "scale = calculate_scale(parahome_pcd, modelnet_pcd)\n",
    "scaled_laptop = apply_scale(parahome_pcd, scale)"
   ]
  },
  {
   "cell_type": "code",
   "execution_count": 218,
   "id": "16d7d71b",
   "metadata": {},
   "outputs": [
    {
     "name": "stdout",
     "output_type": "stream",
     "text": [
      "\u001b[1;33m[Open3D WARNING] GLFW Error: Cocoa: Failed to find service port for display\u001b[0;m\n",
      "\u001b[1;33m[Open3D WARNING] GLFW Error: Cocoa: Failed to find service port for display\u001b[0;m\n"
     ]
    }
   ],
   "source": [
    "display_open3d([np.asarray(scaled_laptop.points), batch[0][15]], True)"
   ]
  },
  {
   "cell_type": "code",
   "execution_count": null,
   "id": "e98da83c",
   "metadata": {},
   "outputs": [],
   "source": []
  },
  {
   "cell_type": "code",
   "execution_count": 165,
   "id": "a764f99e",
   "metadata": {},
   "outputs": [],
   "source": [
    "def preprocess_point_cloud(pcd, voxel_size):\n",
    "    pcd_down = pcd.voxel_down_sample(voxel_size)\n",
    "    radius_normal = voxel_size * 2\n",
    "    pcd_down.estimate_normals(o3d.geometry.KDTreeSearchParamHybrid(radius=radius_normal, max_nn=30))\n",
    "    return pcd_down\n",
    "\n",
    "def register_point_clouds_non_rigid(source, target, voxel_size):\n",
    "    source_down = preprocess_point_cloud(source, voxel_size)\n",
    "    target_down = preprocess_point_cloud(target, voxel_size)\n",
    "\n",
    "    threshold = voxel_size * 1.5\n",
    "    trans_init = np.eye(4)\n",
    "\n",
    "    # Use non-rigid ICP for alignment\n",
    "    p2p = o3d.pipelines.registration.TransformationEstimationPointToPoint()\n",
    "    icp_result = o3d.pipelines.registration.registration_icp(\n",
    "        source_down, target_down, threshold, trans_init,\n",
    "        p2p, o3d.pipelines.registration.ICPConvergenceCriteria(max_iteration=200)\n",
    "    )\n",
    "\n",
    "    # Non-rigid registration can be achieved using deformation graphs in Open3D\n",
    "    return icp_result.transformation\n",
    "\n",
    "# Example usage\n",
    "voxel_size = 0.01\n",
    "pc1 = [scaled_laptop]\n",
    "pc2 = [modelnet_pcd]\n",
    "\n",
    "for src, tgt in zip(pc1, pc2):\n",
    "    transformation = register_point_clouds_non_rigid(src, tgt, voxel_size)\n",
    "    res_parahome = src.transform(transformation)"
   ]
  },
  {
   "cell_type": "code",
   "execution_count": 242,
   "id": "bba2f8a9",
   "metadata": {},
   "outputs": [],
   "source": [
    "def rotation_matrix(axis, angle):\n",
    "    \"\"\"\n",
    "    Create a rotation matrix to rotate around a specific axis by a given angle.\n",
    "    :param axis: The axis of rotation ('x', 'y', or 'z')\n",
    "    :param angle: The angle of rotation in radians\n",
    "    :return: A 3x3 rotation matrix\n",
    "    \"\"\"\n",
    "    if axis == 'x':\n",
    "        R = np.array([[1, 0, 0],\n",
    "                      [0, np.cos(angle), -np.sin(angle)],\n",
    "                      [0, np.sin(angle), np.cos(angle)]])\n",
    "    elif axis == 'y':\n",
    "        R = np.array([[np.cos(angle), 0, np.sin(angle)],\n",
    "                      [0, 1, 0],\n",
    "                      [-np.sin(angle), 0, np.cos(angle)]])\n",
    "    elif axis == 'z':\n",
    "        R = np.array([[np.cos(angle), -np.sin(angle), 0],\n",
    "                      [np.sin(angle), np.cos(angle), 0],\n",
    "                      [0, 0, 1]])\n",
    "    else:\n",
    "        raise ValueError(\"Invalid axis. Choose from 'x', 'y', or 'z'.\")\n",
    "    return R\n",
    "\n",
    "def homogeneous_transformation_matrix(rotation_axis, rotation_angle, translation):\n",
    "    \"\"\"\n",
    "    Create a homogeneous transformation matrix for rotation and translation.\n",
    "    :param rotation_axis: The axis of rotation ('x', 'y', or 'z')\n",
    "    :param rotation_angle: The angle of rotation in radians\n",
    "    :param translation: The translation vector as a tuple or list (tx, ty, tz)\n",
    "    :return: A 4x4 homogeneous transformation matrix\n",
    "    \"\"\"\n",
    "    R = rotation_matrix(rotation_axis, rotation_angle)\n",
    "    T = np.eye(4)\n",
    "    T[:3, :3] = R\n",
    "    T[:3, 3] = translation\n",
    "    return T\n",
    "\n",
    "def random_transformations(rotation_axis=\"x\", n=10, t_mult=0.1):\n",
    "    ts = []\n",
    "    angle_between = np.deg2rad(360 / n)\n",
    "    curr_angle = 0\n",
    "    for _ in range(n):\n",
    "        translation = np.random.randn(3) * t_mult\n",
    "        ts.append(homogeneous_transformation_matrix(rotation_axis, curr_angle, translation))\n",
    "        curr_angle += angle_between\n",
    "    return ts"
   ]
  },
  {
   "cell_type": "code",
   "execution_count": 167,
   "id": "139458be",
   "metadata": {},
   "outputs": [
    {
     "name": "stdout",
     "output_type": "stream",
     "text": [
      "\u001b[1;33m[Open3D WARNING] GLFW Error: Cocoa: Failed to find service port for display\u001b[0;m\n",
      "\u001b[1;33m[Open3D WARNING] GLFW Error: Cocoa: Failed to find service port for display\u001b[0;m\n"
     ]
    }
   ],
   "source": [
    "display_open3d([np.asarray(res_parahome.points), batch[0][15], np.asarray(scaled_laptop.points)], True)"
   ]
  },
  {
   "cell_type": "code",
   "execution_count": 159,
   "id": "2342d0ba",
   "metadata": {},
   "outputs": [
    {
     "data": {
      "text/plain": [
       "array([[-0.27236954,  0.3167724 ,  0.36002285],\n",
       "       [-0.24773921, -0.12096348,  0.29761687],\n",
       "       [-0.52658969,  0.3323254 ,  0.44830712],\n",
       "       ...,\n",
       "       [ 0.01162417,  0.25794488,  0.2139663 ],\n",
       "       [ 0.31073272, -0.09721488,  0.16651023],\n",
       "       [ 0.39070681,  0.67960052,  0.50197664]])"
      ]
     },
     "execution_count": 159,
     "metadata": {},
     "output_type": "execute_result"
    }
   ],
   "source": [
    "np.asarray(res_parahome.points)"
   ]
  },
  {
   "cell_type": "code",
   "execution_count": 160,
   "id": "fe18a317",
   "metadata": {},
   "outputs": [
    {
     "data": {
      "text/plain": [
       "array([[-0.27236954,  0.3167724 ,  0.36002285],\n",
       "       [-0.24773921, -0.12096348,  0.29761687],\n",
       "       [-0.52658969,  0.3323254 ,  0.44830712],\n",
       "       ...,\n",
       "       [ 0.01162417,  0.25794488,  0.2139663 ],\n",
       "       [ 0.31073272, -0.09721488,  0.16651023],\n",
       "       [ 0.39070681,  0.67960052,  0.50197664]])"
      ]
     },
     "execution_count": 160,
     "metadata": {},
     "output_type": "execute_result"
    }
   ],
   "source": [
    "np.asarray(parahome_pcd.points)"
   ]
  },
  {
   "cell_type": "code",
   "execution_count": 161,
   "id": "8a0db7f3",
   "metadata": {},
   "outputs": [
    {
     "data": {
      "text/plain": [
       "array([[ 9.99999021e-01,  6.90912759e-04, -1.21663607e-03,\n",
       "         5.20245744e-04],\n",
       "       [-6.90598358e-04,  9.99999728e-01,  2.58819951e-04,\n",
       "         1.14079416e-03],\n",
       "       [ 1.21681457e-03, -2.57979491e-04,  9.99999226e-01,\n",
       "        -1.58531826e-04],\n",
       "       [ 0.00000000e+00,  0.00000000e+00,  0.00000000e+00,\n",
       "         1.00000000e+00]])"
      ]
     },
     "execution_count": 161,
     "metadata": {},
     "output_type": "execute_result"
    }
   ],
   "source": [
    "transformation"
   ]
  },
  {
   "cell_type": "markdown",
   "id": "b761fecb",
   "metadata": {},
   "source": [
    "# Registration networks"
   ]
  },
  {
   "cell_type": "code",
   "execution_count": 157,
   "id": "e88f0009",
   "metadata": {},
   "outputs": [],
   "source": [
    "from learning3d.models import PointNet, PointNetLK, RPMNet, PPFNet, DGCNN, DCP, DeepGMR\n",
    "from learning3d.losses import FrobeniusNormLoss, RMSEFeaturesLoss\n",
    "from learning3d.data_utils import RegistrationData, ModelNet40Data"
   ]
  },
  {
   "cell_type": "code",
   "execution_count": 266,
   "id": "904a1d3e",
   "metadata": {},
   "outputs": [],
   "source": [
    "# Create PointNet Model.\n",
    "ptnet = PointNet(emb_dims=1024, use_bn=True)\n",
    "model = pnlk = PointNetLK(feature_model=ptnet, delta=1e-02, xtol=1e-07, p0_zero_mean=True, p1_zero_mean=True, pooling='max')"
   ]
  },
  {
   "cell_type": "code",
   "execution_count": 267,
   "id": "40039fe9",
   "metadata": {},
   "outputs": [
    {
     "data": {
      "text/plain": [
       "<All keys matched successfully>"
      ]
     },
     "execution_count": 267,
     "metadata": {},
     "output_type": "execute_result"
    }
   ],
   "source": [
    "pnlk_path = \"/Users/photosartd/repositories/learning3d/pretrained/exp_pnlk/models/best_model.t7\"\n",
    "model.load_state_dict(torch.load(pnlk_path, map_location='cpu'))"
   ]
  },
  {
   "cell_type": "code",
   "execution_count": 268,
   "id": "83496fd0",
   "metadata": {},
   "outputs": [],
   "source": [
    "srcpts = np.asarray(scaled_laptop.transform(random_transformations(\"x\")[0]).points, dtype=np.float32)"
   ]
  },
  {
   "cell_type": "code",
   "execution_count": 269,
   "id": "b3e8e7b8",
   "metadata": {},
   "outputs": [],
   "source": [
    "with torch.no_grad():\n",
    "    output = model(batch[0][15].unsqueeze(0), torch.from_numpy(srcpts).unsqueeze(0))"
   ]
  },
  {
   "cell_type": "code",
   "execution_count": null,
   "id": "ac910850",
   "metadata": {},
   "outputs": [],
   "source": []
  },
  {
   "cell_type": "code",
   "execution_count": 270,
   "id": "debda6b3",
   "metadata": {},
   "outputs": [
    {
     "data": {
      "text/plain": [
       "torch.Size([1024, 3])"
      ]
     },
     "execution_count": 270,
     "metadata": {},
     "output_type": "execute_result"
    }
   ],
   "source": [
    "batch[0][15].shape"
   ]
  },
  {
   "cell_type": "code",
   "execution_count": 271,
   "id": "e29e00a0",
   "metadata": {},
   "outputs": [
    {
     "data": {
      "text/plain": [
       "torch.Size([1024, 3])"
      ]
     },
     "execution_count": 271,
     "metadata": {},
     "output_type": "execute_result"
    }
   ],
   "source": [
    "parahome_pcs[16].shape"
   ]
  },
  {
   "cell_type": "code",
   "execution_count": 272,
   "id": "1d15c172",
   "metadata": {},
   "outputs": [
    {
     "data": {
      "text/plain": [
       "(1024, 3)"
      ]
     },
     "execution_count": 272,
     "metadata": {},
     "output_type": "execute_result"
    }
   ],
   "source": [
    "output['transformed_source'].detach().cpu().numpy()[0].shape"
   ]
  },
  {
   "cell_type": "code",
   "execution_count": 273,
   "id": "8a2f2f8d",
   "metadata": {},
   "outputs": [
    {
     "data": {
      "text/plain": [
       "array([[-0.4611162 ,  0.2915361 ,  0.30319312],\n",
       "       [-0.3437891 ,  0.5148101 , -0.06080817],\n",
       "       [-0.49840236,  0.49994123,  0.4700491 ],\n",
       "       ...,\n",
       "       [-0.3676174 ,  0.07155377,  0.08339466],\n",
       "       [-0.33098426,  0.03822261, -0.38072106],\n",
       "       [-0.7817253 , -0.39866334,  0.19228753]], dtype=float32)"
      ]
     },
     "execution_count": 273,
     "metadata": {},
     "output_type": "execute_result"
    }
   ],
   "source": [
    "output['transformed_source'].detach().cpu().numpy()[0]"
   ]
  },
  {
   "cell_type": "code",
   "execution_count": 274,
   "id": "3ea2e1fb",
   "metadata": {},
   "outputs": [
    {
     "name": "stdout",
     "output_type": "stream",
     "text": [
      "\u001b[1;33m[Open3D WARNING] GLFW Error: Cocoa: Failed to find service port for display\u001b[0;m\n",
      "\u001b[1;33m[Open3D WARNING] GLFW Error: Cocoa: Failed to find service port for display\u001b[0;m\n"
     ]
    }
   ],
   "source": [
    "display_open3d([output['transformed_source'].detach().cpu().numpy()[0], batch[0][15], srcpts], True)"
   ]
  },
  {
   "cell_type": "code",
   "execution_count": 255,
   "id": "5114b024",
   "metadata": {},
   "outputs": [
    {
     "data": {
      "text/plain": [
       "tensor(11.5693)"
      ]
     },
     "execution_count": 255,
     "metadata": {},
     "output_type": "execute_result"
    }
   ],
   "source": [
    "np.sqrt((output['r'] ** 2).sum())"
   ]
  },
  {
   "cell_type": "code",
   "execution_count": 256,
   "id": "bcef2cd4",
   "metadata": {},
   "outputs": [
    {
     "name": "stdout",
     "output_type": "stream",
     "text": [
      "\u001b[1;33m[Open3D WARNING] GLFW Error: Cocoa: Failed to find service port for display\u001b[0;m\n",
      "\u001b[1;33m[Open3D WARNING] GLFW Error: Cocoa: Failed to find service port for display\u001b[0;m\n"
     ]
    }
   ],
   "source": [
    "best_res = np.inf\n",
    "best_out = None\n",
    "best_start = None\n",
    "for T in random_transformations(\"x\"):\n",
    "    with torch.no_grad():\n",
    "        srcpts = np.array(scaled_laptop.transform(T).points, dtype=np.float32)\n",
    "        srcpts = torch.from_numpy(srcpts).unsqueeze(0)\n",
    "        output = model(batch[0][15].unsqueeze(0), srcpts)\n",
    "        error = np.sqrt((output['r'] ** 2).sum())\n",
    "        if error < best_res:\n",
    "            best_res = error\n",
    "            best_out = output['transformed_source'].detach().cpu().numpy()[0]\n",
    "            best_start = srcpts\n",
    "display_open3d([best_out, batch[0][15], srcpts[0]], True)"
   ]
  },
  {
   "cell_type": "code",
   "execution_count": 259,
   "id": "f7a79271",
   "metadata": {},
   "outputs": [],
   "source": [
    "model = DeepGMR(use_rri=True, nearest_neighbors=20)"
   ]
  },
  {
   "cell_type": "code",
   "execution_count": 262,
   "id": "1695924b",
   "metadata": {},
   "outputs": [
    {
     "data": {
      "text/plain": [
       "_IncompatibleKeys(missing_keys=[], unexpected_keys=['backbone.encoder.0.0.weight', 'backbone.encoder.0.1.weight', 'backbone.encoder.0.1.bias', 'backbone.encoder.0.1.running_mean', 'backbone.encoder.0.1.running_var', 'backbone.encoder.0.1.num_batches_tracked', 'backbone.encoder.1.0.weight', 'backbone.encoder.1.1.weight', 'backbone.encoder.1.1.bias', 'backbone.encoder.1.1.running_mean', 'backbone.encoder.1.1.running_var', 'backbone.encoder.1.1.num_batches_tracked', 'backbone.encoder.2.0.weight', 'backbone.encoder.2.1.weight', 'backbone.encoder.2.1.bias', 'backbone.encoder.2.1.running_mean', 'backbone.encoder.2.1.running_var', 'backbone.encoder.2.1.num_batches_tracked', 'backbone.encoder.3.0.weight', 'backbone.encoder.3.1.weight', 'backbone.encoder.3.1.bias', 'backbone.encoder.3.1.running_mean', 'backbone.encoder.3.1.running_var', 'backbone.encoder.3.1.num_batches_tracked', 'backbone.decoder.0.0.weight', 'backbone.decoder.0.1.weight', 'backbone.decoder.0.1.bias', 'backbone.decoder.0.1.running_mean', 'backbone.decoder.0.1.running_var', 'backbone.decoder.0.1.num_batches_tracked', 'backbone.decoder.1.0.weight', 'backbone.decoder.1.1.weight', 'backbone.decoder.1.1.bias', 'backbone.decoder.1.1.running_mean', 'backbone.decoder.1.1.running_var', 'backbone.decoder.1.1.num_batches_tracked', 'backbone.decoder.2.0.weight', 'backbone.decoder.2.1.weight', 'backbone.decoder.2.1.bias', 'backbone.decoder.2.1.running_mean', 'backbone.decoder.2.1.running_var', 'backbone.decoder.2.1.num_batches_tracked', 'backbone.decoder.3.weight', 'backbone.decoder.3.bias'])"
      ]
     },
     "execution_count": 262,
     "metadata": {},
     "output_type": "execute_result"
    }
   ],
   "source": [
    "model.load_state_dict(torch.load(\"/Users/photosartd/repositories/learning3d/pretrained/exp_deepgmr/models/best_model.pth\", map_location=\"cpu\"), strict=False)"
   ]
  },
  {
   "cell_type": "code",
   "execution_count": 258,
   "id": "fc8e7d3e",
   "metadata": {},
   "outputs": [
    {
     "name": "stdout",
     "output_type": "stream",
     "text": [
      "tensor(3.6161e-06)\n",
      "\u001b[1;33m[Open3D WARNING] GLFW Error: Cocoa: Failed to find service port for display\u001b[0;m\n",
      "\u001b[1;33m[Open3D WARNING] GLFW Error: Cocoa: Failed to find service port for display\u001b[0;m\n"
     ]
    }
   ],
   "source": [
    "best_res = np.inf\n",
    "best_out = None\n",
    "best_start = None\n",
    "for T in random_transformations(\"x\"):\n",
    "    with torch.no_grad():\n",
    "        srcpts = np.array(modelnet_pcd.transform(T).points, dtype=np.float32)\n",
    "        srcpts = torch.from_numpy(srcpts).unsqueeze(0)\n",
    "        output = model(batch[0][15].unsqueeze(0), srcpts)\n",
    "        error = np.sqrt((output['r'] ** 2).sum())\n",
    "        if error < best_res:\n",
    "            best_res = error\n",
    "            best_out = output['transformed_source'].detach().cpu().numpy()[0]\n",
    "            best_start = srcpts\n",
    "print(error)\n",
    "display_open3d([best_out, batch[0][15], srcpts[0]], True)"
   ]
  },
  {
   "cell_type": "code",
   "execution_count": 171,
   "id": "8fdf0f77",
   "metadata": {},
   "outputs": [],
   "source": [
    "testset = RegistrationData('PointNetLK', ModelNet40Data(train=True, num_points=1024, download=True))\n",
    "test_loader = DataLoader(testset, batch_size=8, shuffle=False, drop_last=False)"
   ]
  },
  {
   "cell_type": "code",
   "execution_count": 275,
   "id": "c7d96384",
   "metadata": {},
   "outputs": [
    {
     "name": "stderr",
     "output_type": "stream",
     "text": [
      "\r",
      "  0%|                                                  | 0/1230 [00:00<?, ?it/s]"
     ]
    },
    {
     "name": "stdout",
     "output_type": "stream",
     "text": [
      "\u001b[1;33m[Open3D WARNING] GLFW Error: Cocoa: Failed to find service port for display\u001b[0;m\n"
     ]
    },
    {
     "name": "stderr",
     "output_type": "stream",
     "text": [
      "  0%|                                                  | 0/1230 [00:10<?, ?it/s]\n"
     ]
    }
   ],
   "source": [
    "for i, data in enumerate(tqdm(test_loader)):\n",
    "    template, source, igt = data\n",
    "\n",
    "    output = model(template, source)\n",
    "\n",
    "    \n",
    "    display_open3d([template.detach().cpu().numpy()[0], source.detach().cpu().numpy()[0], output['transformed_source'].detach().cpu().numpy()[0]],\n",
    "                  True)\n",
    "    break"
   ]
  },
  {
   "cell_type": "code",
   "execution_count": 154,
   "id": "ff06f6f0",
   "metadata": {},
   "outputs": [],
   "source": [
    "#testset = RegistrationData('DCP', ModelNet40Data(train=True, num_points=1024, use_normals=True))\n",
    "#test_loader = DataLoader(testset, batch_size=1, shuffle=False, drop_last=False)\n",
    "dgcnn = DGCNN(emb_dims=512)\n",
    "model = DCP(feature_model=dgcnn, cycle=True)"
   ]
  },
  {
   "cell_type": "code",
   "execution_count": 156,
   "id": "bb0e1e78",
   "metadata": {},
   "outputs": [
    {
     "data": {
      "text/plain": [
       "_IncompatibleKeys(missing_keys=[], unexpected_keys=['pointer.model.encoder.layers.0.sublayer.0.norm.norm.weight', 'pointer.model.encoder.layers.0.sublayer.0.norm.norm.bias', 'pointer.model.encoder.layers.0.sublayer.0.norm.norm.running_mean', 'pointer.model.encoder.layers.0.sublayer.0.norm.norm.running_var', 'pointer.model.encoder.layers.0.sublayer.0.norm.norm.num_batches_tracked', 'pointer.model.encoder.layers.0.sublayer.1.norm.norm.weight', 'pointer.model.encoder.layers.0.sublayer.1.norm.norm.bias', 'pointer.model.encoder.layers.0.sublayer.1.norm.norm.running_mean', 'pointer.model.encoder.layers.0.sublayer.1.norm.norm.running_var', 'pointer.model.encoder.layers.0.sublayer.1.norm.norm.num_batches_tracked', 'pointer.model.encoder.norm.norm.weight', 'pointer.model.encoder.norm.norm.bias', 'pointer.model.encoder.norm.norm.running_mean', 'pointer.model.encoder.norm.norm.running_var', 'pointer.model.encoder.norm.norm.num_batches_tracked', 'pointer.model.decoder.layers.0.sublayer.0.norm.norm.weight', 'pointer.model.decoder.layers.0.sublayer.0.norm.norm.bias', 'pointer.model.decoder.layers.0.sublayer.0.norm.norm.running_mean', 'pointer.model.decoder.layers.0.sublayer.0.norm.norm.running_var', 'pointer.model.decoder.layers.0.sublayer.0.norm.norm.num_batches_tracked', 'pointer.model.decoder.layers.0.sublayer.1.norm.norm.weight', 'pointer.model.decoder.layers.0.sublayer.1.norm.norm.bias', 'pointer.model.decoder.layers.0.sublayer.1.norm.norm.running_mean', 'pointer.model.decoder.layers.0.sublayer.1.norm.norm.running_var', 'pointer.model.decoder.layers.0.sublayer.1.norm.norm.num_batches_tracked', 'pointer.model.decoder.layers.0.sublayer.2.norm.norm.weight', 'pointer.model.decoder.layers.0.sublayer.2.norm.norm.bias', 'pointer.model.decoder.layers.0.sublayer.2.norm.norm.running_mean', 'pointer.model.decoder.layers.0.sublayer.2.norm.norm.running_var', 'pointer.model.decoder.layers.0.sublayer.2.norm.norm.num_batches_tracked', 'pointer.model.decoder.norm.norm.weight', 'pointer.model.decoder.norm.norm.bias', 'pointer.model.decoder.norm.norm.running_mean', 'pointer.model.decoder.norm.norm.running_var', 'pointer.model.decoder.norm.norm.num_batches_tracked'])"
      ]
     },
     "execution_count": 156,
     "metadata": {},
     "output_type": "execute_result"
    }
   ],
   "source": [
    "model.load_state_dict(torch.load(\"/Users/photosartd/repositories/learning3d/pretrained/exp_dcp/models/best_model.t7\",\n",
    "                                map_location=\"cpu\"), strict=False)"
   ]
  },
  {
   "cell_type": "code",
   "execution_count": null,
   "id": "51881dd1",
   "metadata": {},
   "outputs": [],
   "source": [
    "next(iter(test_loader))[0].shape"
   ]
  },
  {
   "cell_type": "code",
   "execution_count": null,
   "id": "2ed0d56b",
   "metadata": {},
   "outputs": [],
   "source": []
  }
 ],
 "metadata": {
  "kernelspec": {
   "display_name": "learning3d",
   "language": "python",
   "name": "learning3d"
  },
  "language_info": {
   "codemirror_mode": {
    "name": "ipython",
    "version": 3
   },
   "file_extension": ".py",
   "mimetype": "text/x-python",
   "name": "python",
   "nbconvert_exporter": "python",
   "pygments_lexer": "ipython3",
   "version": "3.8.19"
  }
 },
 "nbformat": 4,
 "nbformat_minor": 5
}
